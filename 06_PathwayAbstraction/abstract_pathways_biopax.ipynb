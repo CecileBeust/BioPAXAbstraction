{
 "cells": [
  {
   "cell_type": "markdown",
   "metadata": {},
   "source": [
    "## BioPAX abstraction: Pathway-centered view\n",
    "\n",
    "TODO : \n",
    "- find pathway examples from Reactome\n",
    "- define abstraction rules\n",
    "- implement in SPARQL\n",
    "\n",
    "![image](../Schemas/Screenshot%20from%202025-02-07%2011-09-05.png)\n",
    "![image](../Schemas/Screenshot%20from%202025-02-07%2011-09-28.png)"
   ]
  },
  {
   "cell_type": "markdown",
   "metadata": {},
   "source": [
    "### First exploration on Reactome v91 (Homo Sapiens)\n",
    "\n",
    "Total number of pathways : 2751\n",
    "\n",
    "- How many pathways have sub-pathways ?\n",
    "\n",
    "```sparql\n",
    "SELECT (COUNT (DISTINCT ?pathway1) AS ?nbPathwayRoot) \n",
    "WHERE {\n",
    "  ?pathway1 rdf:type bp3:Pathway .\n",
    "  ?pathway2 rdf:type bp3:Pathway .\n",
    "  \n",
    "  ?pathway1 bp3:pathwayComponent ?pathway2 .\n",
    "}\n",
    "```\n",
    "\n",
    "808 pathways (~ 29% of pathways have sub-pathways)\n",
    "\n",
    "- How many pathways can be relied to their subpathways via bp3:nextStep ?\n",
    "\n",
    "```sparql\n",
    "SELECT (COUNT (DISTINCT ?pathwayRoot) AS ?nbPathwayRoot) \n",
    "WHERE {\n",
    "  ?pathwayRoot rdf:type bp3:Pathway .\n",
    "  ?subPathway rdf:type bp3:Pathway .\n",
    "  \n",
    "  ?pathwayRoot bp3:pathwayComponent ?subPathway .\n",
    "  \n",
    "  ?pathwayRoot bp3:pathwayOrder ?pathwayRootStep .\n",
    "  ?subPathway bp3:pathwayOrder ?subPathwayStep .\n",
    "  \n",
    "  ?pathwayRootStep (bp3:nextStep)+ ?subPathwayStep .\n",
    "}\n",
    "```\n",
    "\n",
    "148 pathways \n",
    "\n",
    "- How many sub-pathways have an entering nextStep from another pathway or a leaving nextStep to another pathway ? \n",
    "\n",
    "```sparql\n",
    "SELECT (COUNT(DISTINCT ?subPathway) AS ?nbSubPathway) \n",
    "WHERE {\n",
    "  ?pathwayRoot rdf:type bp3:Pathway .\n",
    "  ?subPathway rdf:type bp3:Pathway .\n",
    "  \n",
    "  ?pathwayRoot bp3:pathwayComponent ?subPathway .\n",
    "  \n",
    "  FILTER EXISTS {\n",
    "    {\n",
    "      ?enteringNextStep bp3:nextStep ?subPathwayStep .\n",
    "      ?previousPathway (bp3:pathwayOrder)* ?enteringNextStep .\n",
    "    } \n",
    "    UNION \n",
    "    {\n",
    "      ?subPathwayStep bp3:nextStep ?leavingNextStep .\n",
    "      ?nextPathway (bp3:pathwayOrder)* ?leavingNextStep .\n",
    "    }\n",
    "  }\n",
    "}\n",
    "```\n",
    "\n",
    "\n",
    "\n",
    "- Are there Biochemical Reactions that are uniquely linked to the root pathway via a bp3:pathwayComponent relationship and not via a bp3:PathwayStep ?\n",
    "\n",
    "```sparql\n",
    "SELECT ?pathwayRoot (COUNT(DISTINCT ?pathwayRootDirectProcess) AS ?nbPathwayRootDirectProcess)\n",
    "WHERE {\n",
    "  ?pathwayRoot rdf:type bp3:Pathway ;\n",
    "               bp3:pathwayComponent ?subPathway, ?pathwayRootDirectProcess .\n",
    "  \n",
    "  ?subPathway rdf:type bp3:Pathway ;\n",
    "              bp3:pathwayOrder ?subPathwayStep .\n",
    "  \n",
    "  ?subPathwayStep bp3:stepProcess ?subPathwayStepProcess .\n",
    "  \n",
    "  ?pathwayRootDirectProcess rdf:type bp3:BiochemicalReaction .\n",
    "  \n",
    "  FILTER NOT EXISTS {\n",
    "    ?subPathwayStepProcess rdf:type bp3:BiochemicalReaction .\n",
    "    FILTER (?pathwayRootDirectProcess = ?subPathwayStepProcess)\n",
    "  }\n",
    "}\n",
    "GROUP BY ?pathwayRoot \n",
    "ORDER BY DESC(?nbPathwayRootDirectProcess)\n",
    "```\n",
    "\n",
    "Max 52 Biochemical reactions for a Pathway\n",
    "\n",
    "This situation occurs for 311 pathways\n",
    "\n",
    "~ 8000 nextSteps entre différents pathways\n"
   ]
  },
  {
   "cell_type": "markdown",
   "metadata": {},
   "source": [
    "### SPARQL queries for abstraction"
   ]
  },
  {
   "cell_type": "markdown",
   "metadata": {},
   "source": [
    "#### 1 - SuperPathwayOf\n",
    "\n",
    "Defines a relation that decribes the direct hierarchy of pathways."
   ]
  },
  {
   "cell_type": "code",
   "execution_count": null,
   "metadata": {},
   "outputs": [],
   "source": [
    "query_super_pathway_of = \"\"\"\n",
    "CONSTRUCT {\n",
    "  ?pathway abstraction:SuperPathwayOf ?subPathway .\n",
    "}\n",
    "WHERE {\n",
    "  ?pathway rdf:type bp3:Pathway .\n",
    "  \n",
    "  ?pathway bp3:pathwayComponent ?subPathway .\n",
    "  ?subPathway rdf:type bp3:Pathway .\n",
    "}\n",
    "\"\"\""
   ]
  },
  {
   "cell_type": "markdown",
   "metadata": {},
   "source": [
    "#### 2 - NextStepPathway\n",
    "\n",
    "Defines a relation that describes the sequence of pathway steps across different pathways"
   ]
  },
  {
   "cell_type": "code",
   "execution_count": 1,
   "metadata": {},
   "outputs": [],
   "source": [
    "query_next_step_pathway = \"\"\" \n",
    "CONSTRUCT {\n",
    "  ?pathway abstraction:NextStepPathway ?nextPathway\n",
    "}\n",
    "WHERE {\n",
    "  ?pathway rdf:type bp3:Pathway .\n",
    "  ?nextPathway rdf:type bp3:Pathway .\n",
    "  \n",
    "  ?pathway bp3:pathwayOrder ?pathwayStep .\n",
    "  \n",
    "  ?pathwayStep bp3:nextStep ?nextStep .\n",
    "  \n",
    "  ?nextPathway bp3:pathwayOrder ?nextStep .\n",
    "  \n",
    "  FILTER (?pathway != ?nextPathway)\n",
    "  FILTER NOT EXISTS {\n",
    "    ?pathwayRoot bp3:pathwayComponent* ?pathway .\n",
    "    ?pathwayRoot bp3:pathwayComponent* ?nextPathway .\n",
    "  }\n",
    "}\n",
    "\"\"\""
   ]
  },
  {
   "cell_type": "markdown",
   "metadata": {},
   "source": [
    "#### 3 - InnerNextStepPathway \n",
    "\n",
    "Defines a relation that describes the sequence of pathway steps belonging to the same pathway"
   ]
  },
  {
   "cell_type": "code",
   "execution_count": null,
   "metadata": {},
   "outputs": [],
   "source": [
    "query_inner_next_step_pathway = \"\"\" \n",
    "CONSTRUCT {\n",
    "  ?pathway abstraction:InnerNextStepPathway ?nextPathway\n",
    "}\n",
    "WHERE {\n",
    "  ?pathway rdf:type bp3:Pathway .\n",
    "  ?nextPathway rdf:type bp3:Pathway .\n",
    "  \n",
    "  ?pathwayRoot bp3:pathwayComponent* ?pathway .\n",
    "  ?pathwayRoot bp3:pathwayComponent* ?nextPathway .\n",
    "  \n",
    "  ?pathway bp3:pathwayOrder ?pathwayStep .\n",
    "  \n",
    "  ?pathwayStep bp3:nextStep ?nextStep .\n",
    "  \n",
    "  ?nextPathway bp3:pathwayOrder ?nextStep .\n",
    "  \n",
    "  FILTER (?pathway != ?nextPathway)\n",
    "}\n",
    "\"\"\""
   ]
  }
 ],
 "metadata": {
  "kernelspec": {
   "display_name": "biopax_sparql_queries",
   "language": "python",
   "name": "python3"
  },
  "language_info": {
   "codemirror_mode": {
    "name": "ipython",
    "version": 3
   },
   "file_extension": ".py",
   "mimetype": "text/x-python",
   "name": "python",
   "nbconvert_exporter": "python",
   "pygments_lexer": "ipython3",
   "version": "3.12.4"
  }
 },
 "nbformat": 4,
 "nbformat_minor": 2
}
