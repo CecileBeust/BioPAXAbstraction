{
 "cells": [
  {
   "cell_type": "markdown",
   "metadata": {},
   "source": [
    "## BioPAX abstraction: Pathway-centered view"
   ]
  },
  {
   "cell_type": "markdown",
   "metadata": {},
   "source": [
    "### First exploration on Reactome v91 (Homo Sapiens)\n",
    "\n",
    "Total number of pathways : 2751\n",
    "\n",
    "- How many pathways have sub-pathways ?\n",
    "\n",
    "```sparql\n",
    "SELECT (COUNT (DISTINCT ?pathway1) AS ?nbPathwayRoot) \n",
    "WHERE {\n",
    "  ?pathway1 rdf:type bp3:Pathway .\n",
    "  ?pathway2 rdf:type bp3:Pathway .\n",
    "  \n",
    "  ?pathway1 bp3:pathwayComponent ?pathway2 .\n",
    "}\n",
    "```\n",
    "\n",
    "808 pathways (~ 29% of pathways have sub-pathways)\n",
    "\n",
    "- How many pathways can be relied to their subpathways via bp3:nextStep ?\n",
    "\n",
    "```sparql\n",
    "SELECT (COUNT (DISTINCT ?pathwayRoot) AS ?nbPathwayRoot) \n",
    "WHERE {\n",
    "  ?pathwayRoot rdf:type bp3:Pathway .\n",
    "  ?subPathway rdf:type bp3:Pathway .\n",
    "  \n",
    "  ?pathwayRoot bp3:pathwayComponent ?subPathway .\n",
    "  \n",
    "  ?pathwayRoot bp3:pathwayOrder ?pathwayRootStep .\n",
    "  ?subPathway bp3:pathwayOrder ?subPathwayStep .\n",
    "  \n",
    "  ?pathwayRootStep (bp3:nextStep)+ ?subPathwayStep .\n",
    "}\n",
    "```\n",
    "\n",
    "148 pathways \n",
    "\n",
    "- How many sub-pathways have an entering nextStep from another pathway or a leaving nextStep to another pathway ? \n",
    "\n",
    "```sparql\n",
    "SELECT (COUNT(DISTINCT ?subPathway) AS ?nbSubPathway) \n",
    "WHERE {\n",
    "  ?pathwayRoot rdf:type bp3:Pathway .\n",
    "  ?subPathway rdf:type bp3:Pathway .\n",
    "  \n",
    "  ?pathwayRoot bp3:pathwayComponent ?subPathway .\n",
    "  \n",
    "  FILTER EXISTS {\n",
    "    {\n",
    "      ?enteringNextStep bp3:nextStep ?subPathwayStep .\n",
    "      ?previousPathway (bp3:pathwayOrder)* ?enteringNextStep .\n",
    "    } \n",
    "    UNION \n",
    "    {\n",
    "      ?subPathwayStep bp3:nextStep ?leavingNextStep .\n",
    "      ?nextPathway (bp3:pathwayOrder)* ?leavingNextStep .\n",
    "    }\n",
    "  }\n",
    "}\n",
    "```\n",
    "\n",
    "\n",
    "\n",
    "- Are there Biochemical Reactions that are uniquely linked to the root pathway via a bp3:pathwayComponent relationship and not via a bp3:PathwayStep ?\n",
    "\n",
    "```sparql\n",
    "SELECT ?pathwayRoot (COUNT(DISTINCT ?pathwayRootDirectProcess) AS ?nbPathwayRootDirectProcess)\n",
    "WHERE {\n",
    "  ?pathwayRoot rdf:type bp3:Pathway ;\n",
    "               bp3:pathwayComponent ?subPathway, ?pathwayRootDirectProcess .\n",
    "  \n",
    "  ?subPathway rdf:type bp3:Pathway ;\n",
    "              bp3:pathwayOrder ?subPathwayStep .\n",
    "  \n",
    "  ?subPathwayStep bp3:stepProcess ?subPathwayStepProcess .\n",
    "  \n",
    "  ?pathwayRootDirectProcess rdf:type bp3:BiochemicalReaction .\n",
    "  \n",
    "  FILTER NOT EXISTS {\n",
    "    ?subPathwayStepProcess rdf:type bp3:BiochemicalReaction .\n",
    "    FILTER (?pathwayRootDirectProcess = ?subPathwayStepProcess)\n",
    "  }\n",
    "}\n",
    "GROUP BY ?pathwayRoot \n",
    "ORDER BY DESC(?nbPathwayRootDirectProcess)\n",
    "```\n",
    "\n",
    "Max 52 Biochemical reactions for a Pathway\n",
    "\n",
    "This situation occurs for 311 pathways\n",
    "\n",
    "~ 8000 nextSteps entre différents pathways\n"
   ]
  },
  {
   "cell_type": "code",
   "execution_count": 1,
   "metadata": {},
   "outputs": [],
   "source": [
    "from SPARQLWrapper import SPARQLWrapper, JSON, CSV, N3, XML, TURTLE\n",
    "import subprocess\n",
    "import time\n",
    "import os\n",
    "from requests.utils import requote_uri\n",
    "from urllib.parse import quote\n",
    "import re\n",
    "import rdflib\n",
    "import pandas as pd"
   ]
  },
  {
   "cell_type": "code",
   "execution_count": 2,
   "metadata": {},
   "outputs": [],
   "source": [
    "endpoint_reactome = \"http://localhost:3030/reactome\"\n",
    "rdfFormat = \"turtle\"\n",
    "current_directory = os.getcwd()\n",
    "BioPAX_Ontology_file_path = os.path.join(current_directory, '../..', 'ReactomeData', 'biopax-level3.owl')\n",
    "ReactomeBioPAX_file_path = os.path.join(current_directory, '../..', 'ReactomeData', 'Homo_sapiens.owl')\n",
    "TestReactomeFile_path = os.path.join(current_directory, '../..', 'ReactomeData/SignalTransduction/SignalingByReceptorTyrosineKinase', 'R-HSA-9006934_level3.owl')"
   ]
  },
  {
   "cell_type": "code",
   "execution_count": 3,
   "metadata": {},
   "outputs": [],
   "source": [
    "def extract_prefix_mappings(prefixes_string):\n",
    "    \"\"\"\n",
    "    Extract prefix mappings from the SPARQL prefixes string.\n",
    "    \n",
    "    Parameters:\n",
    "    prefixes_string (str): String containing PREFIX declarations\n",
    "    \n",
    "    Returns:\n",
    "    dict: Mapping of full URIs to their prefixes\n",
    "    \"\"\"\n",
    "    # Extract prefix declarations using regex\n",
    "    prefix_pattern = re.compile(r'PREFIX\\s+(\\w+):\\s*<([^>]+)>', re.IGNORECASE)\n",
    "    return {uri: prefix for prefix, uri in prefix_pattern.findall(prefixes_string)}\n",
    "\n",
    "def convert_to_prefixed_uri(uri_string, prefix_mappings):\n",
    "    \"\"\"\n",
    "    Convert a full URI to prefixed format.\n",
    "    \n",
    "    Parameters:\n",
    "    uri_string (str): Full URI string\n",
    "    prefix_mappings (dict): Mapping of URIs to prefixes\n",
    "    \n",
    "    Returns:\n",
    "    str: URI in prefixed format (e.g., 'reactome:Protein')\n",
    "    \"\"\"\n",
    "    for uri_base, prefix in prefix_mappings.items():\n",
    "        if uri_string.startswith(uri_base):\n",
    "            local_part = uri_string[len(uri_base):]\n",
    "            return f\"{prefix}:{local_part}\"\n",
    "    return uri_string  # Return original if no prefix matches\n",
    "\n",
    "def save_for_cytoscape(sparql, prefixes_string, output_file, format='csv', separator=','):\n",
    "    \"\"\"\n",
    "    Save SPARQL CONSTRUCT results in a format compatible with Cytoscape,\n",
    "    using prefix notation for URIs.\n",
    "    \n",
    "    Parameters:\n",
    "    sparql (SPARQLWrapper): Configured SPARQLWrapper instance with query\n",
    "    prefixes_string (str): String containing PREFIX declarations\n",
    "    output_file (str): Path to save the output file\n",
    "    format (str): Output format ('csv' or 'tsv')\n",
    "    separator (str): Column separator (',' for CSV, '\\t' for TSV)\n",
    "    \"\"\"\n",
    "    # Extract prefix mappings\n",
    "    prefix_mappings = extract_prefix_mappings(prefixes_string)\n",
    "    \n",
    "    # Get the results as an RDF graph\n",
    "    sparql.setReturnFormat(TURTLE)\n",
    "    results = sparql.queryAndConvert()\n",
    "    \n",
    "    # Create an RDFlib graph\n",
    "    g = rdflib.Graph()\n",
    "    if isinstance(results, bytes):\n",
    "        g.parse(data=results.decode('utf-8'), format='turtle')\n",
    "    else:\n",
    "        g.parse(data=results, format='turtle')\n",
    "    \n",
    "    # Convert triples to a list of dictionaries with prefixed URIs\n",
    "    triples_data = []\n",
    "    for s, p, o in g:# Extraction of \"Signaling by EGFR\" (R-HSA-177929) pathway from Reactome BioPAX export v65\n",
    "        # Convert each URI to prefixed format\n",
    "        subject = convert_to_prefixed_uri(str(s), prefix_mappings)\n",
    "        predicate = convert_to_prefixed_uri(str(p), prefix_mappings)\n",
    "        object_ = convert_to_prefixed_uri(str(o), prefix_mappings)\n",
    "        \n",
    "        triples_data.append({\n",
    "            'Source': subject,\n",
    "            'Interaction': predicate,\n",
    "            'Target': object_\n",
    "        })\n",
    "    \n",
    "    # Convert to DataFrame for easy CSV/TSV export\n",
    "    df = pd.DataFrame(triples_data)\n",
    "    \n",
    "    # Save to file\n",
    "    if format == 'csv':\n",
    "        df.to_csv(output_file, index=False, sep=',')\n",
    "    else:  # tsv\n",
    "        df.to_csv(output_file, index=False, sep='\\t')\n",
    "    \n",
    "    print(f\"Saved {len(triples_data)} interactions to {output_file}\")\n",
    "    return df\n",
    "\n",
    "def preview_network_data(df, n=5):\n",
    "    \"\"\"\n",
    "    Preview the network data before importing into Cytoscape.\n",
    "    \n",
    "    Parameters:\n",
    "    df (pandas.DataFrame): DataFrame containing the network data\n",
    "    n (int): Number of rows to preview\n",
    "    \"\"\"\n",
    "    print(f\"\\nPreview of network data ({len(df)} total interactions):\")\n",
    "    print(f\"\\nFirst {n} interactions:\")\n",
    "    print(df.head(n))\n",
    "    \n",
    "    # Print some basic network statistics\n",
    "    unique_nodes = set(df['Source'].unique()) | set(df['Target'].unique())\n",
    "    print(f\"\\nNetwork statistics:\")\n",
    "    print(f\"Number of unique nodes: {len(unique_nodes)}\")\n",
    "    print(f\"Number of interactions: {len(df)}\")\n",
    "    print(f\"Unique interaction types:\")\n",
    "    for interaction in sorted(df['Interaction'].unique()):\n",
    "        print(f\"  - {interaction}\")"
   ]
  },
  {
   "cell_type": "code",
   "execution_count": 8,
   "metadata": {},
   "outputs": [],
   "source": [
    "reactomeVersion = 91\n",
    "prefixes = \"\"\"\n",
    "PREFIX rdf: <http://www.w3.org/1999/02/22-rdf-syntax-ns#>\n",
    "PREFIX rdfs:<http://www.w3.org/2000/01/rdf-schema#>\n",
    "PREFIX owl: <http://www.w3.org/2002/07/owl#>\n",
    "PREFIX xsd: <http://www.w3.org/2001/XMLSchema#>\n",
    "PREFIX dc: <http://purl.org/dc/elements/1.1/>\n",
    "PREFIX dcterms: <http://purl.org/dc/terms/>\n",
    "PREFIX chebi: <http://purl.obolibrary.org/obo/chebi/>\n",
    "PREFIX chebidb: <http://purl.obolibrary.org/obo/CHEBI_>\n",
    "PREFIX chebirel: <http://purl.obolibrary.org/obo/CHEBI#>\n",
    "PREFIX oboInOwl: <http://www.geneontology.org/formats/oboInOwl#>\n",
    "PREFIX bp3: <http://www.biopax.org/release/biopax-level3.owl#>\n",
    "PREFIX reactome: <http://www.reactome.org/biopax/91/48887#>\n",
    "PREFIX abstraction:<http://abstraction/#>\n",
    "\"\"\".format(reactomeVersion)\n",
    "\n",
    "biopaxURI = \"http://www.biopax.org/release/biopax-level3.owl#\""
   ]
  },
  {
   "cell_type": "code",
   "execution_count": 5,
   "metadata": {},
   "outputs": [
    {
     "name": "stderr",
     "output_type": "stream",
     "text": [
      "14:55:41 INFO  Server          :: Dataset: in-memory: load file: /home/cbeust/Projects/2025/BioPAXAbstraction/06_PathwayAbstraction/Scripts/../../ReactomeData/Homo_sapiens.owl\n",
      "14:55:42 WARN  riot            :: [line: 67054, col: 52] {W137} Input is large. Switching off checking for illegal reuse of rdf:ID's.\n",
      "14:56:03 INFO  Server          :: Dataset: in-memory: load file: /home/cbeust/Projects/2025/BioPAXAbstraction/06_PathwayAbstraction/Scripts/../../ReactomeData/biopax-level3.owl\n",
      "14:56:03 INFO  Server          :: Running in read-only mode for /reactome\n",
      "14:56:03 INFO  Server          :: Apache Jena Fuseki 4.9.0\n",
      "14:56:03 INFO  Config          :: FUSEKI_HOME=/home/cbeust/Softwares/JenaFuseki/apache-jena-fuseki-4.9.0\n",
      "14:56:03 INFO  Config          :: FUSEKI_BASE=/home/cbeust/Projects/2025/BioPAXAbstraction/06_PathwayAbstraction/Scripts/run\n",
      "14:56:03 INFO  Config          :: Shiro file: file:///home/cbeust/Projects/2025/BioPAXAbstraction/06_PathwayAbstraction/Scripts/run/shiro.ini\n",
      "14:56:03 INFO  Server          :: Database: in-memory, with files loaded\n",
      "14:56:03 INFO  Server          :: Path = /reactome\n",
      "14:56:03 INFO  Server          ::   Memory: 16.0 GiB\n",
      "14:56:03 INFO  Server          ::   Java:   17.0.11\n",
      "14:56:03 INFO  Server          ::   OS:     Linux 6.8.9-100.fc38.x86_64 amd64\n",
      "14:56:03 INFO  Server          ::   PID:    127173\n",
      "14:56:03 INFO  Server          :: Started 2025/02/21 14:56:03 CET on port 3030\n"
     ]
    }
   ],
   "source": [
    "command = [\n",
    "    '/home/cbeust/Softwares/JenaFuseki/apache-jena-fuseki-4.9.0/fuseki-server',\n",
    "    '--file', ReactomeBioPAX_file_path,\n",
    "    '--file', BioPAX_Ontology_file_path,\n",
    "    '/reactome']\n",
    "\n",
    "process = subprocess.Popen(command)\n",
    "time.sleep(60)"
   ]
  },
  {
   "cell_type": "markdown",
   "metadata": {},
   "source": [
    "### SPARQL queries for abstraction"
   ]
  },
  {
   "cell_type": "markdown",
   "metadata": {},
   "source": [
    "#### 1 - SuperPathwayOf\n",
    "\n",
    "Defines a relation that decribes the direct hierarchy of pathways."
   ]
  },
  {
   "cell_type": "code",
   "execution_count": 9,
   "metadata": {},
   "outputs": [
    {
     "name": "stdout",
     "output_type": "stream",
     "text": [
      "Saved 2769 interactions to ../Results/ReactomeHomoSapiens/SuperPathwayOf.csv\n",
      "\n",
      "Preview of network data (2769 total interactions):\n",
      "\n",
      "First 5 interactions:\n",
      "                 Source                 Interaction                Target\n",
      "0   reactome:Pathway170  abstraction:SuperPathwayOf   reactome:Pathway178\n",
      "1   reactome:Pathway439  abstraction:SuperPathwayOf   reactome:Pathway442\n",
      "2  reactome:Pathway2530  abstraction:SuperPathwayOf  reactome:Pathway2532\n",
      "3   reactome:Pathway661  abstraction:SuperPathwayOf   reactome:Pathway653\n",
      "4   reactome:Pathway505  abstraction:SuperPathwayOf   reactome:Pathway506\n",
      "\n",
      "Network statistics:\n",
      "Number of unique nodes: 2751\n",
      "Number of interactions: 2769\n",
      "Unique interaction types:\n",
      "  - abstraction:SuperPathwayOf\n"
     ]
    },
    {
     "name": "stderr",
     "output_type": "stream",
     "text": [
      "14:57:18 INFO  Fuseki          :: [5] GET http://localhost:3030/reactome?query=%0APREFIX+rdf%3A+%3Chttp%3A//www.w3.org/1999/02/22-rdf-syntax-ns%23%3E%0APREFIX+rdfs%3A%3Chttp%3A//www.w3.org/2000/01/rdf-schema%23%3E%0APREFIX+owl%3A+%3Chttp%3A//www.w3.org/2002/07/owl%23%3E%0APREFIX+xsd%3A+%3Chttp%3A//www.w3.org/2001/XMLSchema%23%3E%0APREFIX+dc%3A+%3Chttp%3A//purl.org/dc/elements/1.1/%3E%0APREFIX+dcterms%3A+%3Chttp%3A//purl.org/dc/terms/%3E%0APREFIX+chebi%3A+%3Chttp%3A//purl.obolibrary.org/obo/chebi/%3E%0APREFIX+chebidb%3A+%3Chttp%3A//purl.obolibrary.org/obo/CHEBI_%3E%0APREFIX+chebirel%3A+%3Chttp%3A//purl.obolibrary.org/obo/CHEBI%23%3E%0APREFIX+oboInOwl%3A+%3Chttp%3A//www.geneontology.org/formats/oboInOwl%23%3E%0APREFIX+bp3%3A+%3Chttp%3A//www.biopax.org/release/biopax-level3.owl%23%3E%0APREFIX+reactome%3A+%3Chttp%3A//www.reactome.org/biopax/91/48887%23%3E%0APREFIX+abstraction%3A%3Chttp%3A//abstraction/%23%3E%0A%0ACONSTRUCT+%7B%0A++%3Fpathway+abstraction%3ASuperPathwayOf+%3FsubPathway+.%0A%7D%0AWHERE+%7B%0A++%3Fpathway+rdf%3Atype+bp3%3APathway+.%0A++%0A++%3Fpathway+bp3%3ApathwayComponent+%3FsubPathway+.%0A++%3FsubPathway+rdf%3Atype+bp3%3APathway+.%0A%7D%0A&format=turtle&output=turtle&results=turtle\n",
      "14:57:18 INFO  Fuseki          :: [5] Query =  PREFIX rdf: <http://www.w3.org/1999/02/22-rdf-syntax-ns#> PREFIX rdfs:<http://www.w3.org/2000/01/rdf-schema#> PREFIX owl: <http://www.w3.org/2002/07/owl#> PREFIX xsd: <http://www.w3.org/2001/XMLSchema#> PREFIX dc: <http://purl.org/dc/elements/1.1/> PREFIX dcterms: <http://purl.org/dc/terms/> PREFIX chebi: <http://purl.obolibrary.org/obo/chebi/> PREFIX chebidb: <http://purl.obolibrary.org/obo/CHEBI_> PREFIX chebirel: <http://purl.obolibrary.org/obo/CHEBI#> PREFIX oboInOwl: <http://www.geneontology.org/formats/oboInOwl#> PREFIX bp3: <http://www.biopax.org/release/biopax-level3.owl#> PREFIX reactome: <http://www.reactome.org/biopax/91/48887#> PREFIX abstraction:<http://abstraction/#>  CONSTRUCT {   ?pathway abstraction:SuperPathwayOf ?subPathway . } WHERE {   ?pathway rdf:type bp3:Pathway .      ?pathway bp3:pathwayComponent ?subPathway .   ?subPathway rdf:type bp3:Pathway . } \n",
      "14:57:18 INFO  Fuseki          :: [5] 200 OK (89 ms)\n"
     ]
    }
   ],
   "source": [
    "query_super_pathway_of = \"\"\"\n",
    "CONSTRUCT {\n",
    "  ?pathway abstraction:SuperPathwayOf ?subPathway .\n",
    "}\n",
    "WHERE {\n",
    "  ?pathway rdf:type bp3:Pathway .\n",
    "  \n",
    "  ?pathway bp3:pathwayComponent ?subPathway .\n",
    "  ?subPathway rdf:type bp3:Pathway .\n",
    "}\n",
    "\"\"\"\n",
    "\n",
    "sparql = SPARQLWrapper(endpoint_reactome)\n",
    "sparql.setQuery(prefixes+query_super_pathway_of)\n",
    "df = save_for_cytoscape(sparql, prefixes, \"../Results/ReactomeHomoSapiens/SuperPathwayOf.csv\", format='csv')\n",
    "preview_network_data(df)"
   ]
  },
  {
   "cell_type": "markdown",
   "metadata": {},
   "source": [
    "#### 2 - NextStepPathway\n",
    "\n",
    "Defines a relation that describes the sequence of pathway steps across different pathways"
   ]
  },
  {
   "cell_type": "code",
   "execution_count": 10,
   "metadata": {},
   "outputs": [
    {
     "name": "stderr",
     "output_type": "stream",
     "text": [
      "14:57:27 INFO  Fuseki          :: [6] GET http://localhost:3030/reactome?query=%0APREFIX+rdf%3A+%3Chttp%3A//www.w3.org/1999/02/22-rdf-syntax-ns%23%3E%0APREFIX+rdfs%3A%3Chttp%3A//www.w3.org/2000/01/rdf-schema%23%3E%0APREFIX+owl%3A+%3Chttp%3A//www.w3.org/2002/07/owl%23%3E%0APREFIX+xsd%3A+%3Chttp%3A//www.w3.org/2001/XMLSchema%23%3E%0APREFIX+dc%3A+%3Chttp%3A//purl.org/dc/elements/1.1/%3E%0APREFIX+dcterms%3A+%3Chttp%3A//purl.org/dc/terms/%3E%0APREFIX+chebi%3A+%3Chttp%3A//purl.obolibrary.org/obo/chebi/%3E%0APREFIX+chebidb%3A+%3Chttp%3A//purl.obolibrary.org/obo/CHEBI_%3E%0APREFIX+chebirel%3A+%3Chttp%3A//purl.obolibrary.org/obo/CHEBI%23%3E%0APREFIX+oboInOwl%3A+%3Chttp%3A//www.geneontology.org/formats/oboInOwl%23%3E%0APREFIX+bp3%3A+%3Chttp%3A//www.biopax.org/release/biopax-level3.owl%23%3E%0APREFIX+reactome%3A+%3Chttp%3A//www.reactome.org/biopax/91/48887%23%3E%0APREFIX+abstraction%3A%3Chttp%3A//abstraction/%23%3E%0A+%0ACONSTRUCT+%7B%0A++%3Fpathway+abstraction%3ANextStepPathway+%3FnextPathway%0A%7D%0AWHERE+%7B%0A++%3Fpathway+rdf%3Atype+bp3%3APathway+.%0A++%3FnextPathway+rdf%3Atype+bp3%3APathway+.%0A++%0A++%3Fpathway+bp3%3ApathwayOrder+%3FpathwayStep+.%0A++%3FnextPathway+bp3%3ApathwayOrder+%3FnextStep+.%0A++%0A++%3FpathwayStep+bp3%3AnextStep+%3FnextStep+.%0A++%0A++FILTER+%28%3Fpathway+%21%3D+%3FnextPathway%29%0A%7D%0A&format=turtle&output=turtle&results=turtle\n",
      "14:57:27 INFO  Fuseki          :: [6] Query =  PREFIX rdf: <http://www.w3.org/1999/02/22-rdf-syntax-ns#> PREFIX rdfs:<http://www.w3.org/2000/01/rdf-schema#> PREFIX owl: <http://www.w3.org/2002/07/owl#> PREFIX xsd: <http://www.w3.org/2001/XMLSchema#> PREFIX dc: <http://purl.org/dc/elements/1.1/> PREFIX dcterms: <http://purl.org/dc/terms/> PREFIX chebi: <http://purl.obolibrary.org/obo/chebi/> PREFIX chebidb: <http://purl.obolibrary.org/obo/CHEBI_> PREFIX chebirel: <http://purl.obolibrary.org/obo/CHEBI#> PREFIX oboInOwl: <http://www.geneontology.org/formats/oboInOwl#> PREFIX bp3: <http://www.biopax.org/release/biopax-level3.owl#> PREFIX reactome: <http://www.reactome.org/biopax/91/48887#> PREFIX abstraction:<http://abstraction/#>   CONSTRUCT {   ?pathway abstraction:NextStepPathway ?nextPathway } WHERE {   ?pathway rdf:type bp3:Pathway .   ?nextPathway rdf:type bp3:Pathway .      ?pathway bp3:pathwayOrder ?pathwayStep .   ?nextPathway bp3:pathwayOrder ?nextStep .      ?pathwayStep bp3:nextStep ?nextStep .      FILTER (?pathway != ?nextPathway) } \n"
     ]
    },
    {
     "name": "stdout",
     "output_type": "stream",
     "text": [
      "Saved 3697 interactions to ../Results/ReactomeHomoSapiens/NextStepPathway.csv\n",
      "\n",
      "Preview of network data (3697 total interactions):\n",
      "\n",
      "First 5 interactions:\n",
      "                 Source                  Interaction                Target\n",
      "0  reactome:Pathway2717  abstraction:NextStepPathway   reactome:Pathway626\n",
      "1   reactome:Pathway655  abstraction:NextStepPathway   reactome:Pathway646\n",
      "2   reactome:Pathway400  abstraction:NextStepPathway   reactome:Pathway315\n",
      "3  reactome:Pathway2581  abstraction:NextStepPathway   reactome:Pathway633\n",
      "4  reactome:Pathway1799  abstraction:NextStepPathway  reactome:Pathway1802\n",
      "\n",
      "Network statistics:\n",
      "Number of unique nodes: 1481\n",
      "Number of interactions: 3697\n",
      "Unique interaction types:\n",
      "  - abstraction:NextStepPathway\n"
     ]
    },
    {
     "name": "stderr",
     "output_type": "stream",
     "text": [
      "15:00:16 INFO  Fuseki          :: [6] 200 OK (168.773 s)\n"
     ]
    }
   ],
   "source": [
    "query_next_step_pathway = \"\"\" \n",
    "CONSTRUCT {\n",
    "  ?pathway abstraction:NextStepPathway ?nextPathway\n",
    "}\n",
    "WHERE {\n",
    "  ?pathway rdf:type bp3:Pathway .\n",
    "  ?nextPathway rdf:type bp3:Pathway .\n",
    "  \n",
    "  ?pathway bp3:pathwayOrder ?pathwayStep .\n",
    "  ?nextPathway bp3:pathwayOrder ?nextStep .\n",
    "  \n",
    "  ?pathwayStep bp3:nextStep ?nextStep .\n",
    "  \n",
    "  FILTER (?pathway != ?nextPathway)\n",
    "}\n",
    "\"\"\"\n",
    "\n",
    "sparql = SPARQLWrapper(endpoint_reactome)\n",
    "sparql.setQuery(prefixes+query_next_step_pathway)\n",
    "df = save_for_cytoscape(sparql, prefixes, \"../Results/ReactomeHomoSapiens/NextStepPathway.csv\", format='csv')\n",
    "preview_network_data(df)"
   ]
  },
  {
   "cell_type": "markdown",
   "metadata": {},
   "source": [
    "### Generate node table for ponderation "
   ]
  },
  {
   "cell_type": "code",
   "execution_count": 12,
   "metadata": {},
   "outputs": [
    {
     "name": "stderr",
     "output_type": "stream",
     "text": [
      "15:19:53 INFO  Fuseki          :: [8] GET http://localhost:3030/reactome?query=%0APREFIX+rdf%3A+%3Chttp%3A//www.w3.org/1999/02/22-rdf-syntax-ns%23%3E%0APREFIX+rdfs%3A%3Chttp%3A//www.w3.org/2000/01/rdf-schema%23%3E%0APREFIX+owl%3A+%3Chttp%3A//www.w3.org/2002/07/owl%23%3E%0APREFIX+xsd%3A+%3Chttp%3A//www.w3.org/2001/XMLSchema%23%3E%0APREFIX+dc%3A+%3Chttp%3A//purl.org/dc/elements/1.1/%3E%0APREFIX+dcterms%3A+%3Chttp%3A//purl.org/dc/terms/%3E%0APREFIX+chebi%3A+%3Chttp%3A//purl.obolibrary.org/obo/chebi/%3E%0APREFIX+chebidb%3A+%3Chttp%3A//purl.obolibrary.org/obo/CHEBI_%3E%0APREFIX+chebirel%3A+%3Chttp%3A//purl.obolibrary.org/obo/CHEBI%23%3E%0APREFIX+oboInOwl%3A+%3Chttp%3A//www.geneontology.org/formats/oboInOwl%23%3E%0APREFIX+bp3%3A+%3Chttp%3A//www.biopax.org/release/biopax-level3.owl%23%3E%0APREFIX+reactome%3A+%3Chttp%3A//www.reactome.org/biopax/91/48887%23%3E%0APREFIX+abstraction%3A%3Chttp%3A//abstraction/%23%3E%0A%0ASELECT+%3Fpathway+%28COUNT+%28DISTINCT+%3FDirectPathwayStepProcess%29+AS+%3FNbDirectPathwayStepProcess%29+%0AWHERE+%7B%0A++%3Fpathway+rdf%3Atype+bp3%3APathway+.%0A++%3Fpathway+bp3%3ApathwayOrder+%3FDirectPathwayStep+.%0A++%3FDirectPathwayStep+bp3%3AstepProcess+%3FDirectPathwayStepProcess+.%0A++%3FDirectPathwayStepProcess+%28rdf%3Atype/rdfs%3AsubClassOf%2A%29+bp3%3AInteraction+.%0A%7D%0AGROUP+BY+%3Fpathway++++%0A&format=csv&output=csv&results=csv\n",
      "15:19:53 INFO  Fuseki          :: [8] Query =  PREFIX rdf: <http://www.w3.org/1999/02/22-rdf-syntax-ns#> PREFIX rdfs:<http://www.w3.org/2000/01/rdf-schema#> PREFIX owl: <http://www.w3.org/2002/07/owl#> PREFIX xsd: <http://www.w3.org/2001/XMLSchema#> PREFIX dc: <http://purl.org/dc/elements/1.1/> PREFIX dcterms: <http://purl.org/dc/terms/> PREFIX chebi: <http://purl.obolibrary.org/obo/chebi/> PREFIX chebidb: <http://purl.obolibrary.org/obo/CHEBI_> PREFIX chebirel: <http://purl.obolibrary.org/obo/CHEBI#> PREFIX oboInOwl: <http://www.geneontology.org/formats/oboInOwl#> PREFIX bp3: <http://www.biopax.org/release/biopax-level3.owl#> PREFIX reactome: <http://www.reactome.org/biopax/91/48887#> PREFIX abstraction:<http://abstraction/#>  SELECT ?pathway (COUNT (DISTINCT ?DirectPathwayStepProcess) AS ?NbDirectPathwayStepProcess)  WHERE {   ?pathway rdf:type bp3:Pathway .   ?pathway bp3:pathwayOrder ?DirectPathwayStep .   ?DirectPathwayStep bp3:stepProcess ?DirectPathwayStepProcess .   ?DirectPathwayStepProcess (rdf:type/rdfs:subClassOf*) bp3:Interaction . } GROUP BY ?pathway     \n",
      "15:19:53 INFO  Fuseki          :: [8] 200 OK (559 ms)\n"
     ]
    }
   ],
   "source": [
    "query_node_table = \"\"\"\n",
    "SELECT ?pathway (COUNT (DISTINCT ?DirectPathwayStepProcess) AS ?NbDirectPathwayStepProcess) \n",
    "WHERE {\n",
    "  ?pathway rdf:type bp3:Pathway .\n",
    "  ?pathway bp3:pathwayOrder ?DirectPathwayStep .\n",
    "  ?DirectPathwayStep bp3:stepProcess ?DirectPathwayStepProcess .\n",
    "  ?DirectPathwayStepProcess (rdf:type/rdfs:subClassOf*) bp3:Interaction .\n",
    "}\n",
    "GROUP BY ?pathway    \n",
    "\"\"\"\n",
    "\n",
    "sparql = SPARQLWrapper(endpoint_reactome)\n",
    "sparql.setQuery(prefixes+query_node_table)\n",
    "sparql.setReturnFormat(CSV)\n",
    "results = sparql.query().convert()\n",
    "with open(f\"../Results/ReactomeHomoSapiens/PathwayNodeTable.csv\", \"wb\") as f:\n",
    "    f.write(results)\n",
    "\n"
   ]
  },
  {
   "cell_type": "markdown",
   "metadata": {},
   "source": [
    "### Concatenation of output files"
   ]
  },
  {
   "cell_type": "code",
   "execution_count": 22,
   "metadata": {},
   "outputs": [
    {
     "name": "stdout",
     "output_type": "stream",
     "text": [
      "['pathway', 'reactome:Pathway1849', 'reactome:Pathway1716', 'reactome:Pathway1801', 'reactome:Pathway2298', 'reactome:Pathway2383', 'reactome:Pathway2165', 'reactome:Pathway1934', 'reactome:Pathway2032', 'reactome:Pathway641', 'reactome:Pathway1053', 'reactome:Pathway1271', 'reactome:Pathway205', 'reactome:Pathway689', 'reactome:Pathway774', 'reactome:Pathway556', 'reactome:Pathway423', 'reactome:Pathway1848', 'reactome:Pathway2033', 'reactome:Pathway1933', 'reactome:Pathway2166', 'reactome:Pathway2384', 'reactome:Pathway2299', 'reactome:Pathway1800', 'reactome:Pathway119', 'reactome:Pathway1185', 'reactome:Pathway991', 'reactome:Pathway640', 'reactome:Pathway78', 'reactome:Pathway1270', 'reactome:Pathway773', 'reactome:Pathway337', 'reactome:Pathway688', 'reactome:Pathway555', 'reactome:Pathway30', 'reactome:Pathway422', 'reactome:Pathway1803', 'reactome:Pathway1936', 'reactome:Pathway2034', 'reactome:Pathway1718', 'reactome:Pathway2167', 'reactome:Pathway2385', 'reactome:Pathway203', 'reactome:Pathway1273', 'reactome:Pathway1140', 'reactome:Pathway990', 'reactome:Pathway772', 'reactome:Pathway33', 'reactome:Pathway336', 'reactome:Pathway469', 'reactome:Pathway1188', 'reactome:Pathway687', 'reactome:Pathway554', 'reactome:Pathway2471', 'reactome:Pathway2253', 'reactome:Pathway1802', 'reactome:Pathway2168', 'reactome:Pathway2035', 'reactome:Pathway1717', 'reactome:Pathway2386', 'reactome:Pathway420', 'reactome:Pathway1490', 'reactome:Pathway32', 'reactome:Pathway553', 'reactome:Pathway1272', 'reactome:Pathway771', 'reactome:Pathway117', 'reactome:Pathway468', 'reactome:Pathway1187', 'reactome:Pathway1054', 'reactome:Pathway686', 'reactome:Pathway335', 'reactome:Pathway1805', 'reactome:Pathway1938', 'reactome:Pathway2169', 'reactome:Pathway2254', 'reactome:Pathway2472', 'reactome:Pathway2690', 'reactome:Pathway2387', 'reactome:Pathway685', 'reactome:Pathway770', 'reactome:Pathway552', 'reactome:Pathway8', 'reactome:Pathway1360', 'reactome:Pathway1493', 'reactome:Pathway116', 'reactome:Pathway249', 'reactome:Pathway1275', 'reactome:Pathway201', 'reactome:Pathway334', 'reactome:Pathway467', 'reactome:Pathway1937', 'reactome:Pathway1804', 'reactome:Pathway2122', 'reactome:Pathway2691', 'reactome:Pathway2340', 'reactome:Pathway2255', 'reactome:Pathway2388', 'reactome:Pathway1719', 'reactome:Pathway2473', 'reactome:Pathway1141', 'reactome:Pathway115', 'reactome:Pathway333', 'reactome:Pathway684', 'reactome:Pathway551', 'reactome:Pathway1492', 'reactome:Pathway34', 'reactome:Pathway9', 'reactome:Pathway248', 'reactome:Pathway1189', 'reactome:Pathway466', 'reactome:Pathway599', 'reactome:Pathway200', 'reactome:Pathway1274', 'reactome:Pathway2692', 'reactome:Pathway2256', 'reactome:Pathway2123', 'reactome:Pathway2341', 'reactome:Pathway2474', 'reactome:Pathway2389', 'reactome:Pathway1807', 'reactome:Pathway6', 'reactome:Pathway37', 'reactome:Pathway332', 'reactome:Pathway465', 'reactome:Pathway550', 'reactome:Pathway1580', 'reactome:Pathway1277', 'reactome:Pathway1362', 'reactome:Pathway598', 'reactome:Pathway1059', 'reactome:Pathway1806', 'reactome:Pathway2039', 'reactome:Pathway2560', 'reactome:Pathway909', 'reactome:Pathway2475', 'reactome:Pathway2342', 'reactome:Pathway2693', 'reactome:Pathway1939', 'reactome:Pathway36', 'reactome:Pathway7', 'reactome:Pathway597', 'reactome:Pathway464', 'reactome:Pathway682', 'reactome:Pathway1361', 'reactome:Pathway331', 'reactome:Pathway1276', 'reactome:Pathway1010', 'reactome:Pathway113', 'reactome:Pathway246', 'reactome:Pathway379', 'reactome:Pathway1058', 'reactome:Pathway1756', 'reactome:Pathway1405', 'reactome:Pathway1538', 'reactome:Pathway908', 'reactome:Pathway1889', 'reactome:Pathway2290', 'reactome:Pathway2072', 'reactome:Pathway681', 'reactome:Pathway2517', 'reactome:Pathway1093', 'reactome:Pathway2735', 'reactome:Pathway2602', 'reactome:Pathway596', 'reactome:Pathway245', 'reactome:Pathway330', 'reactome:Pathway463', 'reactome:Pathway1841', 'reactome:Pathway1974', 'reactome:Pathway71', 'reactome:Pathway378', 'reactome:Pathway112', 'reactome:Pathway1404', 'reactome:Pathway1755', 'reactome:Pathway1319', 'reactome:Pathway1888', 'reactome:Pathway2073', 'reactome:Pathway2291', 'reactome:Pathway680', 'reactome:Pathway2736', 'reactome:Pathway2603', 'reactome:Pathway244', 'reactome:Pathway159', 'reactome:Pathway377', 'reactome:Pathway595', 'reactome:Pathway462', 'reactome:Pathway2518', 'reactome:Pathway1973', 'reactome:Pathway111', 'reactome:Pathway1840', 'reactome:Pathway1622', 'reactome:Pathway70', 'reactome:Pathway906', 'reactome:Pathway1758', 'reactome:Pathway1407', 'reactome:Pathway2737', 'reactome:Pathway2604', 'reactome:Pathway1180', 'reactome:Pathway158', 'reactome:Pathway2519', 'reactome:Pathway243', 'reactome:Pathway594', 'reactome:Pathway1095', 'reactome:Pathway110', 'reactome:Pathway73', 'reactome:Pathway1710', 'reactome:Pathway1624', 'reactome:Pathway905', 'reactome:Pathway1406', 'reactome:Pathway1975', 'reactome:Pathway2075', 'reactome:Pathway2160', 'reactome:Pathway460', 'reactome:Pathway1094', 'reactome:Pathway242', 'reactome:Pathway375', 'reactome:Pathway2738', 'reactome:Pathway72', 'reactome:Pathway1842', 'reactome:Pathway157', 'reactome:Pathway1712', 'reactome:Pathway904', 'reactome:Pathway1845', 'reactome:Pathway819', 'reactome:Pathway1978', 'reactome:Pathway1627', 'reactome:Pathway1409', 'reactome:Pathway2294', 'reactome:Pathway2076', 'reactome:Pathway592', 'reactome:Pathway241', 'reactome:Pathway289', 'reactome:Pathway2739', 'reactome:Pathway374', 'reactome:Pathway2606', 'reactome:Pathway1930', 'reactome:Pathway156', 'reactome:Pathway903', 'reactome:Pathway2380', 'reactome:Pathway1626', 'reactome:Pathway1977', 'reactome:Pathway1759', 'reactome:Pathway1844', 'reactome:Pathway2162', 'reactome:Pathway2295', 'reactome:Pathway1181', 'reactome:Pathway240', 'reactome:Pathway591', 'reactome:Pathway1096', 'reactome:Pathway288', 'reactome:Pathway2607', 'reactome:Pathway155', 'reactome:Pathway74', 'reactome:Pathway817', 'reactome:Pathway1847', 'reactome:Pathway1629', 'reactome:Pathway1932', 'reactome:Pathway2030', 'reactome:Pathway2296', 'reactome:Pathway2163', 'reactome:Pathway372', 'reactome:Pathway590', 'reactome:Pathway1184', 'reactome:Pathway1051', 'reactome:Pathway287', 'reactome:Pathway77', 'reactome:Pathway154', 'reactome:Pathway1099', 'reactome:Pathway902', 'reactome:Pathway816', 'reactome:Pathway1979', 'reactome:Pathway949', 'reactome:Pathway1713', 'reactome:Pathway1628', 'reactome:Pathway2297', 'reactome:Pathway1931', 'reactome:Pathway2079', 'reactome:Pathway2382', 'reactome:Pathway2031', 'reactome:Pathway2164', 'reactome:Pathway371', 'reactome:Pathway76', 'reactome:Pathway2609', 'reactome:Pathway286', 'reactome:Pathway1050', 'reactome:Pathway1183', 'reactome:Pathway1098', 'reactome:Pathway153', 'reactome:Pathway901', 'reactome:Pathway609', 'reactome:Pathway827', 'reactome:Pathway1227', 'reactome:Pathway2557', 'reactome:Pathway2424', 'reactome:Pathway2642', 'reactome:Pathway382', 'reactome:Pathway2339', 'reactome:Pathway297', 'reactome:Pathway1530', 'reactome:Pathway1796', 'reactome:Pathway2206', 'reactome:Pathway1312', 'reactome:Pathway1578', 'reactome:Pathway164', 'reactome:Pathway912', 'reactome:Pathway1359', 'reactome:Pathway959', 'reactome:Pathway826', 'reactome:Pathway608', 'reactome:Pathway2425', 'reactome:Pathway380', 'reactome:Pathway2643', 'reactome:Pathway2510', 'reactome:Pathway381', 'reactome:Pathway2207', 'reactome:Pathway911', 'reactome:Pathway1226', 'reactome:Pathway1311', 'reactome:Pathway1795', 'reactome:Pathway1880', 'reactome:Pathway163', 'reactome:Pathway1577', 'reactome:Pathway1447', 'reactome:Pathway958', 'reactome:Pathway1229', 'reactome:Pathway607', 'reactome:Pathway2511', 'reactome:Pathway295', 'reactome:Pathway2559', 'reactome:Pathway2426', 'reactome:Pathway1750', 'reactome:Pathway1883', 'reactome:Pathway162', 'reactome:Pathway1798', 'reactome:Pathway1314', 'reactome:Pathway825', 'reactome:Pathway1665', 'reactome:Pathway739', 'reactome:Pathway1579', 'reactome:Pathway160', 'reactome:Pathway1228', 'reactome:Pathway606', 'reactome:Pathway2645', 'reactome:Pathway2512', 'reactome:Pathway2730', 'reactome:Pathway294', 'reactome:Pathway2427', 'reactome:Pathway1531', 'reactome:Pathway161', 'reactome:Pathway1313', 'reactome:Pathway824', 'reactome:Pathway2209', 'reactome:Pathway957', 'reactome:Pathway1797', 'reactome:Pathway1446', 'reactome:Pathway738', 'reactome:Pathway1667', 'reactome:Pathway1316', 'reactome:Pathway1449', 'reactome:Pathway2513', 'reactome:Pathway2428', 'reactome:Pathway293', 'reactome:Pathway2646', 'reactome:Pathway1885', 'reactome:Pathway1752', 'reactome:Pathway605', 'reactome:Pathway1970', 'reactome:Pathway823', 'reactome:Pathway1401', 'reactome:Pathway1534', 'reactome:Pathway1315', 'reactome:Pathway1448', 'reactome:Pathway1799', 'reactome:Pathway519', 'reactome:Pathway2429', 'reactome:Pathway2647', 'reactome:Pathway1884', 'reactome:Pathway955', 'reactome:Pathway822', 'reactome:Pathway1400', 'reactome:Pathway604', 'reactome:Pathway1533', 'reactome:Pathway1666', 'reactome:Pathway737', 'reactome:Pathway1403', 'reactome:Pathway1536', 'reactome:Pathway1669', 'reactome:Pathway518', 'reactome:Pathway1887', 'reactome:Pathway2733', 'reactome:Pathway2070', 'reactome:Pathway2600', 'reactome:Pathway290', 'reactome:Pathway1091', 'reactome:Pathway821', 'reactome:Pathway1972', 'reactome:Pathway954', 'reactome:Pathway603', 'reactome:Pathway1754', 'reactome:Pathway736', 'reactome:Pathway1621', 'reactome:Pathway869', 'reactome:Pathway1668', 'reactome:Pathway1535', 'reactome:Pathway2601', 'reactome:Pathway2071', 'reactome:Pathway2649', 'reactome:Pathway2516', 'reactome:Pathway1090', 'reactome:Pathway2734', 'reactome:Pathway1886', 'reactome:Pathway953', 'reactome:Pathway1971', 'reactome:Pathway1620', 'reactome:Pathway517', 'reactome:Pathway868', 'reactome:Pathway602', 'reactome:Pathway1402', 'reactome:Pathway1753', 'reactome:Pathway2246', 'reactome:Pathway2028', 'reactome:Pathway2113', 'reactome:Pathway2464', 'reactome:Pathway2597', 'reactome:Pathway2331', 'reactome:Pathway27', 'reactome:Pathway1570', 'reactome:Pathway1001', 'reactome:Pathway601', 'reactome:Pathway1134', 'reactome:Pathway1352', 'reactome:Pathway1485', 'reactome:Pathway952', 'reactome:Pathway1049', 'reactome:Pathway649', 'reactome:Pathway867', 'reactome:Pathway516', 'reactome:Pathway1267', 'reactome:Pathway2247', 'reactome:Pathway2114', 'reactome:Pathway2332', 'reactome:Pathway2465', 'reactome:Pathway2550', 'reactome:Pathway2598', 'reactome:Pathway1929', 'reactome:Pathway5', 'reactome:Pathway1351', 'reactome:Pathway951', 'reactome:Pathway1266', 'reactome:Pathway600', 'reactome:Pathway1484', 'reactome:Pathway1000', 'reactome:Pathway733', 'reactome:Pathway999', 'reactome:Pathway1399', 'reactome:Pathway866', 'reactome:Pathway515', 'reactome:Pathway1048', 'reactome:Pathway2115', 'reactome:Pathway2248', 'reactome:Pathway2200', 'reactome:Pathway2333', 'reactome:Pathway2466', 'reactome:Pathway2599', 'reactome:Pathway1790', 'reactome:Pathway1221', 'reactome:Pathway1354', 'reactome:Pathway865', 'reactome:Pathway1487', 'reactome:Pathway1269', 'reactome:Pathway998', 'reactome:Pathway1003', 'reactome:Pathway1136', 'reactome:Pathway647', 'reactome:Pathway514', 'reactome:Pathway2249', 'reactome:Pathway2116', 'reactome:Pathway2201', 'reactome:Pathway2552', 'reactome:Pathway28', 'reactome:Pathway2334', 'reactome:Pathway2467', 'reactome:Pathway513', 'reactome:Pathway1571', 'reactome:Pathway1002', 'reactome:Pathway997', 'reactome:Pathway1353', 'reactome:Pathway1220', 'reactome:Pathway428', 'reactome:Pathway779', 'reactome:Pathway3', 'reactome:Pathway1268', 'reactome:Pathway646', 'reactome:Pathway1135', 'reactome:Pathway2202', 'reactome:Pathway2117', 'reactome:Pathway2420', 'reactome:Pathway2553', 'reactome:Pathway2468', 'reactome:Pathway2335', 'reactome:Pathway2686', 'reactome:Pathway209', 'reactome:Pathway730', 'reactome:Pathway645', 'reactome:Pathway1792', 'reactome:Pathway512', 'reactome:Pathway863', 'reactome:Pathway1574', 'reactome:Pathway996', 'reactome:Pathway1005', 'reactome:Pathway778', 'reactome:Pathway1356', 'reactome:Pathway1489', 'reactome:Pathway427', 'reactome:Pathway1223', 'reactome:Pathway2421', 'reactome:Pathway2336', 'reactome:Pathway2469', 'reactome:Pathway2687', 'reactome:Pathway1222', 'reactome:Pathway862', 'reactome:Pathway995', 'reactome:Pathway1440', 'reactome:Pathway1791', 'reactome:Pathway511', 'reactome:Pathway1573', 'reactome:Pathway777', 'reactome:Pathway1355', 'reactome:Pathway2118', 'reactome:Pathway1488', 'reactome:Pathway426', 'reactome:Pathway1007', 'reactome:Pathway2204', 'reactome:Pathway2640', 'reactome:Pathway2337', 'reactome:Pathway2422', 'reactome:Pathway2555', 'reactome:Pathway207', 'reactome:Pathway861', 'reactome:Pathway994', 'reactome:Pathway425', 'reactome:Pathway776', 'reactome:Pathway1794', 'reactome:Pathway1661', 'reactome:Pathway510', 'reactome:Pathway1443', 'reactome:Pathway1225', 'reactome:Pathway1358', 'reactome:Pathway2205', 'reactome:Pathway2689', 'reactome:Pathway2556', 'reactome:Pathway2423', 'reactome:Pathway206', 'reactome:Pathway2338', 'reactome:Pathway993', 'reactome:Pathway1660', 'reactome:Pathway424', 'reactome:Pathway557', 'reactome:Pathway642', 'reactome:Pathway1793', 'reactome:Pathway1006', 'reactome:Pathway1224', 'reactome:Pathway1357', 'reactome:Pathway339', 'reactome:Pathway1837', 'reactome:Pathway1922', 'reactome:Pathway2286', 'reactome:Pathway1704', 'reactome:Pathway1619', 'reactome:Pathway2068', 'reactome:Pathway2371', 'reactome:Pathway2020', 'reactome:Pathway980', 'reactome:Pathway1392', 'reactome:Pathway67', 'reactome:Pathway762', 'reactome:Pathway895', 'reactome:Pathway1089', 'reactome:Pathway326', 'reactome:Pathway677', 'reactome:Pathway411', 'reactome:Pathway544', 'reactome:Pathway459', 'reactome:Pathway1703', 'reactome:Pathway1836', 'reactome:Pathway1969', 'reactome:Pathway2372', 'reactome:Pathway2154', 'reactome:Pathway2590', 'reactome:Pathway1921', 'reactome:Pathway1618', 'reactome:Pathway2069', 'reactome:Pathway2021', 'reactome:Pathway107', 'reactome:Pathway1391', 'reactome:Pathway1173', 'reactome:Pathway410', 'reactome:Pathway761', 'reactome:Pathway1040', 'reactome:Pathway66', 'reactome:Pathway894', 'reactome:Pathway458', 'reactome:Pathway1088', 'reactome:Pathway543', 'reactome:Pathway1839', 'reactome:Pathway1924', 'reactome:Pathway2022', 'reactome:Pathway2155', 'reactome:Pathway2373', 'reactome:Pathway2591', 'reactome:Pathway2288', 'reactome:Pathway1706', 'reactome:Pathway2240', 'reactome:Pathway69', 'reactome:Pathway542', 'reactome:Pathway21', 'reactome:Pathway1261', 'reactome:Pathway760', 'reactome:Pathway106', 'reactome:Pathway1394', 'reactome:Pathway1176', 'reactome:Pathway1043', 'reactome:Pathway324', 'reactome:Pathway675', 'reactome:Pathway239', 'reactome:Pathway1838', 'reactome:Pathway1705', 'reactome:Pathway1923', 'reactome:Pathway2592', 'reactome:Pathway2289', 'reactome:Pathway2156', 'reactome:Pathway2374', 'reactome:Pathway2241', 'reactome:Pathway674', 'reactome:Pathway20', 'reactome:Pathway1042', 'reactome:Pathway892', 'reactome:Pathway1260', 'reactome:Pathway1393', 'reactome:Pathway105', 'reactome:Pathway238', 'reactome:Pathway589', 'reactome:Pathway323', 'reactome:Pathway456', 'reactome:Pathway1175', 'reactome:Pathway1926', 'reactome:Pathway2593', 'reactome:Pathway2460', 'reactome:Pathway2024', 'reactome:Pathway2157', 'reactome:Pathway1708', 'reactome:Pathway2375', 'reactome:Pathway1130', 'reactome:Pathway891', 'reactome:Pathway673', 'reactome:Pathway322', 'reactome:Pathway540', 'reactome:Pathway1481', 'reactome:Pathway23', 'reactome:Pathway237', 'reactome:Pathway1045', 'reactome:Pathway1396', 'reactome:Pathway455', 'reactome:Pathway1263', 'reactome:Pathway2158', 'reactome:Pathway1925', 'reactome:Pathway2243', 'reactome:Pathway2461', 'reactome:Pathway2025', 'reactome:Pathway2594', 'reactome:Pathway890', 'reactome:Pathway1262', 'reactome:Pathway454', 'reactome:Pathway1480', 'reactome:Pathway103', 'reactome:Pathway672', 'reactome:Pathway369', 'reactome:Pathway1395', 'reactome:Pathway1177', 'reactome:Pathway587', 'reactome:Pathway236', 'reactome:Pathway1044', 'reactome:Pathway2159', 'reactome:Pathway2026', 'reactome:Pathway2111', 'reactome:Pathway2680', 'reactome:Pathway2244', 'reactome:Pathway2377', 'reactome:Pathway2595', 'reactome:Pathway2462', 'reactome:Pathway1928', 'reactome:Pathway453', 'reactome:Pathway586', 'reactome:Pathway1350', 'reactome:Pathway320', 'reactome:Pathway1483', 'reactome:Pathway1265', 'reactome:Pathway235', 'reactome:Pathway102', 'reactome:Pathway1398', 'reactome:Pathway1047', 'reactome:Pathway2027', 'reactome:Pathway1927', 'reactome:Pathway2681', 'reactome:Pathway2245', 'reactome:Pathway2112', 'reactome:Pathway1709', 'reactome:Pathway2596', 'reactome:Pathway2330', 'reactome:Pathway2463', 'reactome:Pathway2378', 'reactome:Pathway670', 'reactome:Pathway24', 'reactome:Pathway234', 'reactome:Pathway585', 'reactome:Pathway452', 'reactome:Pathway149', 'reactome:Pathway1482', 'reactome:Pathway1046', 'reactome:Pathway367', 'reactome:Pathway1264', 'reactome:Pathway1397', 'reactome:Pathway1179', 'reactome:Pathway1744', 'reactome:Pathway1659', 'reactome:Pathway1526', 'reactome:Pathway1308', 'reactome:Pathway1877', 'reactome:Pathway2193', 'reactome:Pathway1081', 'reactome:Pathway2505', 'reactome:Pathway2723', 'reactome:Pathway148', 'reactome:Pathway366', 'reactome:Pathway451', 'reactome:Pathway584', 'reactome:Pathway1962', 'reactome:Pathway100', 'reactome:Pathway499', 'reactome:Pathway1611', 'reactome:Pathway1525', 'reactome:Pathway1307', 'reactome:Pathway1658', 'reactome:Pathway1876', 'reactome:Pathway2194', 'reactome:Pathway2061', 'reactome:Pathway2506', 'reactome:Pathway450', 'reactome:Pathway2724', 'reactome:Pathway1080', 'reactome:Pathway365', 'reactome:Pathway498', 'reactome:Pathway2639', 'reactome:Pathway232', 'reactome:Pathway583', 'reactome:Pathway1961', 'reactome:Pathway1743', 'reactome:Pathway1610', 'reactome:Pathway1613', 'reactome:Pathway1746', 'reactome:Pathway1879', 'reactome:Pathway1964', 'reactome:Pathway2062', 'reactome:Pathway2195', 'reactome:Pathway2280', 'reactome:Pathway582', 'reactome:Pathway1083', 'reactome:Pathway231', 'reactome:Pathway2507', 'reactome:Pathway364', 'reactome:Pathway1831', 'reactome:Pathway279', 'reactome:Pathway146', 'reactome:Pathway1745', 'reactome:Pathway1612', 'reactome:Pathway1527', 'reactome:Pathway808', 'reactome:Pathway1878', 'reactome:Pathway1309', 'reactome:Pathway2063', 'reactome:Pathway2196', 'reactome:Pathway2281', 'reactome:Pathway2726', 'reactome:Pathway1082', 'reactome:Pathway581', 'reactome:Pathway278', 'reactome:Pathway363', 'reactome:Pathway496', 'reactome:Pathway1830', 'reactome:Pathway60', 'reactome:Pathway1963', 'reactome:Pathway145', 'reactome:Pathway1700', 'reactome:Pathway1615', 'reactome:Pathway807', 'reactome:Pathway1966', 'reactome:Pathway1833', 'reactome:Pathway2282', 'reactome:Pathway2197', 'reactome:Pathway2064', 'reactome:Pathway362', 'reactome:Pathway580', 'reactome:Pathway277', 'reactome:Pathway1085', 'reactome:Pathway2509', 'reactome:Pathway2727', 'reactome:Pathway144', 'reactome:Pathway63', 'reactome:Pathway806', 'reactome:Pathway939', 'reactome:Pathway1614', 'reactome:Pathway2198', 'reactome:Pathway1832', 'reactome:Pathway1965', 'reactome:Pathway2283', 'reactome:Pathway2150', 'reactome:Pathway2065', 'reactome:Pathway494', 'reactome:Pathway361', 'reactome:Pathway2728', 'reactome:Pathway276', 'reactome:Pathway1084', 'reactome:Pathway143', 'reactome:Pathway1968', 'reactome:Pathway938', 'reactome:Pathway1702', 'reactome:Pathway1617', 'reactome:Pathway2066', 'reactome:Pathway2199', 'reactome:Pathway1835', 'reactome:Pathway2151', 'reactome:Pathway2284', 'reactome:Pathway493', 'reactome:Pathway360', 'reactome:Pathway65', 'reactome:Pathway2729', 'reactome:Pathway275', 'reactome:Pathway1172', 'reactome:Pathway1087', 'reactome:Pathway142', 'reactome:Pathway804', 'reactome:Pathway719', 'reactome:Pathway1749', 'reactome:Pathway1834', 'reactome:Pathway2067', 'reactome:Pathway1967', 'reactome:Pathway2370', 'reactome:Pathway2285', 'reactome:Pathway2152', 'reactome:Pathway274', 'reactome:Pathway492', 'reactome:Pathway64', 'reactome:Pathway1171', 'reactome:Pathway189', 'reactome:Pathway141', 'reactome:Pathway948', 'reactome:Pathway815', 'reactome:Pathway1348', 'reactome:Pathway2630', 'reactome:Pathway2678', 'reactome:Pathway2545', 'reactome:Pathway2412', 'reactome:Pathway285', 'reactome:Pathway370', 'reactome:Pathway2327', 'reactome:Pathway1651', 'reactome:Pathway1215', 'reactome:Pathway900', 'reactome:Pathway1300', 'reactome:Pathway1433', 'reactome:Pathway1784', 'reactome:Pathway1699', 'reactome:Pathway1566', 'reactome:Pathway2109', 'reactome:Pathway947', 'reactome:Pathway1129', 'reactome:Pathway729', 'reactome:Pathway2546', 'reactome:Pathway2413', 'reactome:Pathway2631', 'reactome:Pathway284', 'reactome:Pathway2679', 'reactome:Pathway2328', 'reactome:Pathway199', 'reactome:Pathway1783', 'reactome:Pathway1650', 'reactome:Pathway1432', 'reactome:Pathway151', 'reactome:Pathway1214', 'reactome:Pathway814', 'reactome:Pathway1347', 'reactome:Pathway1698', 'reactome:Pathway1568', 'reactome:Pathway728', 'reactome:Pathway1217', 'reactome:Pathway2632', 'reactome:Pathway2329', 'reactome:Pathway283', 'reactome:Pathway2547', 'reactome:Pathway198', 'reactome:Pathway1520', 'reactome:Pathway1653', 'reactome:Pathway1871', 'reactome:Pathway150', 'reactome:Pathway813', 'reactome:Pathway946', 'reactome:Pathway1302', 'reactome:Pathway1786', 'reactome:Pathway727', 'reactome:Pathway1349', 'reactome:Pathway509', 'reactome:Pathway1216', 'reactome:Pathway2633', 'reactome:Pathway281', 'reactome:Pathway2500', 'reactome:Pathway282', 'reactome:Pathway1870', 'reactome:Pathway1652', 'reactome:Pathway812', 'reactome:Pathway1301', 'reactome:Pathway1567', 'reactome:Pathway197', 'reactome:Pathway1219', 'reactome:Pathway1304', 'reactome:Pathway1788', 'reactome:Pathway508', 'reactome:Pathway280', 'reactome:Pathway2634', 'reactome:Pathway2501', 'reactome:Pathway2549', 'reactome:Pathway1873', 'reactome:Pathway1740', 'reactome:Pathway1522', 'reactome:Pathway1655', 'reactome:Pathway726', 'reactome:Pathway196', 'reactome:Pathway1569', 'reactome:Pathway1436', 'reactome:Pathway1218', 'reactome:Pathway2502', 'reactome:Pathway2190', 'reactome:Pathway2417', 'reactome:Pathway1872', 'reactome:Pathway195', 'reactome:Pathway1521', 'reactome:Pathway943', 'reactome:Pathway725', 'reactome:Pathway858', 'reactome:Pathway1303', 'reactome:Pathway1654', 'reactome:Pathway1657', 'reactome:Pathway1524', 'reactome:Pathway1306', 'reactome:Pathway193', 'reactome:Pathway1439', 'reactome:Pathway2191', 'reactome:Pathway2721', 'reactome:Pathway2418', 'reactome:Pathway2636', 'reactome:Pathway2503', 'reactome:Pathway942', 'reactome:Pathway506', 'reactome:Pathway194', 'reactome:Pathway724', 'reactome:Pathway857', 'reactome:Pathway1742', 'reactome:Pathway1789', 'reactome:Pathway1305', 'reactome:Pathway1656', 'reactome:Pathway1438', 'reactome:Pathway192', 'reactome:Pathway2722', 'reactome:Pathway2192', 'reactome:Pathway2637', 'reactome:Pathway2504', 'reactome:Pathway2419', 'reactome:Pathway1874', 'reactome:Pathway856', 'reactome:Pathway1523', 'reactome:Pathway191', 'reactome:Pathway2016', 'reactome:Pathway419', 'reactome:Pathway2149', 'reactome:Pathway2234', 'reactome:Pathway2585', 'reactome:Pathway2452', 'reactome:Pathway2367', 'reactome:Pathway15', 'reactome:Pathway1691', 'reactome:Pathway940', 'reactome:Pathway1340', 'reactome:Pathway1255', 'reactome:Pathway1473', 'reactome:Pathway722', 'reactome:Pathway988', 'reactome:Pathway855', 'reactome:Pathway1388', 'reactome:Pathway637', 'reactome:Pathway504', 'reactome:Pathway1037', 'reactome:Pathway2235', 'reactome:Pathway190', 'reactome:Pathway2017', 'reactome:Pathway2102', 'reactome:Pathway2586', 'reactome:Pathway2453', 'reactome:Pathway2671', 'reactome:Pathway1917', 'reactome:Pathway2368', 'reactome:Pathway14', 'reactome:Pathway1690', 'reactome:Pathway1254', 'reactome:Pathway721', 'reactome:Pathway1121', 'reactome:Pathway1387', 'reactome:Pathway854', 'reactome:Pathway418', 'reactome:Pathway987', 'reactome:Pathway1036', 'reactome:Pathway636', 'reactome:Pathway769', 'reactome:Pathway503', 'reactome:Pathway2236', 'reactome:Pathway2103', 'reactome:Pathway2018', 'reactome:Pathway2672', 'reactome:Pathway2369', 'reactome:Pathway17', 'reactome:Pathway2587', 'reactome:Pathway502', 'reactome:Pathway1693', 'reactome:Pathway1560', 'reactome:Pathway1342', 'reactome:Pathway986', 'reactome:Pathway853', 'reactome:Pathway417', 'reactome:Pathway1039', 'reactome:Pathway768', 'reactome:Pathway1257', 'reactome:Pathway1124', 'reactome:Pathway635', 'reactome:Pathway2104', 'reactome:Pathway2322', 'reactome:Pathway2673', 'reactome:Pathway2540', 'reactome:Pathway1919', 'reactome:Pathway2588', 'reactome:Pathway16', 'reactome:Pathway634', 'reactome:Pathway1123', 'reactome:Pathway1341', 'reactome:Pathway852', 'reactome:Pathway501', 'reactome:Pathway1692', 'reactome:Pathway1474', 'reactome:Pathway985', 'reactome:Pathway767', 'reactome:Pathway2019', 'reactome:Pathway549', 'reactome:Pathway1389', 'reactome:Pathway1256', 'reactome:Pathway2238', 'reactome:Pathway2105', 'reactome:Pathway2674', 'reactome:Pathway2323', 'reactome:Pathway19', 'reactome:Pathway2456', 'reactome:Pathway984', 'reactome:Pathway633', 'reactome:Pathway1780', 'reactome:Pathway500', 'reactome:Pathway766', 'reactome:Pathway899', 'reactome:Pathway1259', 'reactome:Pathway1344', 'reactome:Pathway1126', 'reactome:Pathway548', 'reactome:Pathway2542', 'reactome:Pathway2457', 'reactome:Pathway18', 'reactome:Pathway2675', 'reactome:Pathway2324', 'reactome:Pathway850', 'reactome:Pathway1561', 'reactome:Pathway1210', 'reactome:Pathway632', 'reactome:Pathway765', 'reactome:Pathway1694', 'reactome:Pathway1343', 'reactome:Pathway898', 'reactome:Pathway1476', 'reactome:Pathway1258', 'reactome:Pathway2239', 'reactome:Pathway1125', 'reactome:Pathway547', 'reactome:Pathway1128', 'reactome:Pathway2325', 'reactome:Pathway2458', 'reactome:Pathway2543', 'reactome:Pathway982', 'reactome:Pathway413', 'reactome:Pathway546', 'reactome:Pathway764', 'reactome:Pathway1782', 'reactome:Pathway1431', 'reactome:Pathway1697', 'reactome:Pathway1564', 'reactome:Pathway2107', 'reactome:Pathway1346', 'reactome:Pathway1213', 'reactome:Pathway328', 'reactome:Pathway679', 'reactome:Pathway2677', 'reactome:Pathway2326', 'reactome:Pathway2544', 'reactome:Pathway2459', 'reactome:Pathway109', 'reactome:Pathway981', 'reactome:Pathway1781', 'reactome:Pathway763', 'reactome:Pathway545', 'reactome:Pathway896', 'reactome:Pathway1430', 'reactome:Pathway1563', 'reactome:Pathway412', 'reactome:Pathway2108', 'reactome:Pathway1127', 'reactome:Pathway1696', 'reactome:Pathway1345', 'reactome:Pathway327', 'reactome:Pathway1478', 'reactome:Pathway1212', 'reactome:Pathway1825', 'reactome:Pathway1958', 'reactome:Pathway2056', 'reactome:Pathway2492', 'reactome:Pathway1607', 'reactome:Pathway2189', 'reactome:Pathway1910', 'reactome:Pathway2274', 'reactome:Pathway2141', 'reactome:Pathway229', 'reactome:Pathway1380', 'reactome:Pathway1295', 'reactome:Pathway750', 'reactome:Pathway314', 'reactome:Pathway447', 'reactome:Pathway798', 'reactome:Pathway665', 'reactome:Pathway1077', 'reactome:Pathway532', 'reactome:Pathway1957', 'reactome:Pathway2493', 'reactome:Pathway1824', 'reactome:Pathway2275', 'reactome:Pathway2057', 'reactome:Pathway2360', 'reactome:Pathway1739', 'reactome:Pathway2142', 'reactome:Pathway228', 'reactome:Pathway531', 'reactome:Pathway54', 'reactome:Pathway1294', 'reactome:Pathway1161', 'reactome:Pathway882', 'reactome:Pathway579', 'reactome:Pathway446', 'reactome:Pathway797', 'reactome:Pathway1076', 'reactome:Pathway664', 'reactome:Pathway313', 'reactome:Pathway1827', 'reactome:Pathway2361', 'reactome:Pathway2276', 'reactome:Pathway2143', 'reactome:Pathway2494', 'reactome:Pathway2058', 'reactome:Pathway1609', 'reactome:Pathway57', 'reactome:Pathway663', 'reactome:Pathway881', 'reactome:Pathway1382', 'reactome:Pathway796', 'reactome:Pathway578', 'reactome:Pathway1079', 'reactome:Pathway445', 'reactome:Pathway1164', 'reactome:Pathway2059', 'reactome:Pathway1959', 'reactome:Pathway1826', 'reactome:Pathway1911', 'reactome:Pathway1608', 'reactome:Pathway2277', 'reactome:Pathway2495', 'reactome:Pathway880', 'reactome:Pathway1030', 'reactome:Pathway1381', 'reactome:Pathway311', 'reactome:Pathway56', 'reactome:Pathway226', 'reactome:Pathway795', 'reactome:Pathway359', 'reactome:Pathway444', 'reactome:Pathway577', 'reactome:Pathway1296', 'reactome:Pathway1914', 'reactome:Pathway2581', 'reactome:Pathway2012', 'reactome:Pathway2278', 'reactome:Pathway2145', 'reactome:Pathway2230', 'reactome:Pathway2363', 'reactome:Pathway2496', 'reactome:Pathway1829', 'reactome:Pathway59', 'reactome:Pathway1251', 'reactome:Pathway225', 'reactome:Pathway310', 'reactome:Pathway443', 'reactome:Pathway661', 'reactome:Pathway794', 'reactome:Pathway11', 'reactome:Pathway358', 'reactome:Pathway1384', 'reactome:Pathway1299', 'reactome:Pathway1166', 'reactome:Pathway1033', 'reactome:Pathway576', 'reactome:Pathway1828', 'reactome:Pathway2279', 'reactome:Pathway1913', 'reactome:Pathway2582', 'reactome:Pathway2231', 'reactome:Pathway2146', 'reactome:Pathway2013', 'reactome:Pathway2497', 'reactome:Pathway2364', 'reactome:Pathway442', 'reactome:Pathway575', 'reactome:Pathway10', 'reactome:Pathway1250', 'reactome:Pathway793', 'reactome:Pathway224', 'reactome:Pathway139', 'reactome:Pathway1383', 'reactome:Pathway1298', 'reactome:Pathway1165', 'reactome:Pathway357', 'reactome:Pathway1916', 'reactome:Pathway2450', 'reactome:Pathway2014', 'reactome:Pathway2365', 'reactome:Pathway2498', 'reactome:Pathway2583', 'reactome:Pathway13', 'reactome:Pathway574', 'reactome:Pathway1471', 'reactome:Pathway441', 'reactome:Pathway138', 'reactome:Pathway356', 'reactome:Pathway223', 'reactome:Pathway1253', 'reactome:Pathway1386', 'reactome:Pathway489', 'reactome:Pathway1120', 'reactome:Pathway1168', 'reactome:Pathway2148', 'reactome:Pathway2015', 'reactome:Pathway1915', 'reactome:Pathway2100', 'reactome:Pathway2584', 'reactome:Pathway2451', 'reactome:Pathway2499', 'reactome:Pathway137', 'reactome:Pathway355', 'reactome:Pathway440', 'reactome:Pathway1470', 'reactome:Pathway573', 'reactome:Pathway12', 'reactome:Pathway1034', 'reactome:Pathway1167', 'reactome:Pathway1385', 'reactome:Pathway488', 'reactome:Pathway222', 'reactome:Pathway1252', 'reactome:Pathway1514', 'reactome:Pathway1647', 'reactome:Pathway1429', 'reactome:Pathway1998', 'reactome:Pathway2096', 'reactome:Pathway2711', 'reactome:Pathway2181', 'reactome:Pathway790', 'reactome:Pathway354', 'reactome:Pathway487', 'reactome:Pathway136', 'reactome:Pathway2408', 'reactome:Pathway572', 'reactome:Pathway221', 'reactome:Pathway1950', 'reactome:Pathway95', 'reactome:Pathway1732', 'reactome:Pathway1646', 'reactome:Pathway1513', 'reactome:Pathway1428', 'reactome:Pathway1779', 'reactome:Pathway1997', 'reactome:Pathway2097', 'reactome:Pathway2182', 'reactome:Pathway2712', 'reactome:Pathway486', 'reactome:Pathway353', 'reactome:Pathway94', 'reactome:Pathway220', 'reactome:Pathway268', 'reactome:Pathway1731', 'reactome:Pathway1734', 'reactome:Pathway1601', 'reactome:Pathway1516', 'reactome:Pathway1867', 'reactome:Pathway2183', 'reactome:Pathway2098', 'reactome:Pathway2050', 'reactome:Pathway1071', 'reactome:Pathway2713', 'reactome:Pathway267', 'reactome:Pathway352', 'reactome:Pathway2628', 'reactome:Pathway134', 'reactome:Pathway1733', 'reactome:Pathway1515', 'reactome:Pathway1999', 'reactome:Pathway929', 'reactome:Pathway1866', 'reactome:Pathway2051', 'reactome:Pathway1070', 'reactome:Pathway351', 'reactome:Pathway2714', 'reactome:Pathway266', 'reactome:Pathway399', 'reactome:Pathway484', 'reactome:Pathway2629', 'reactome:Pathway133', 'reactome:Pathway1951', 'reactome:Pathway1600', 'reactome:Pathway928', 'reactome:Pathway1518', 'reactome:Pathway1821', 'reactome:Pathway1954', 'reactome:Pathway2052', 'reactome:Pathway2185', 'reactome:Pathway350', 'reactome:Pathway1291', 'reactome:Pathway483', 'reactome:Pathway398', 'reactome:Pathway265', 'reactome:Pathway99', 'reactome:Pathway1073', 'reactome:Pathway132', 'reactome:Pathway51', 'reactome:Pathway1602', 'reactome:Pathway927', 'reactome:Pathway1735', 'reactome:Pathway1517', 'reactome:Pathway1868', 'reactome:Pathway1953', 'reactome:Pathway2271', 'reactome:Pathway2186', 'reactome:Pathway482', 'reactome:Pathway1290', 'reactome:Pathway98', 'reactome:Pathway264', 'reactome:Pathway397', 'reactome:Pathway50', 'reactome:Pathway1820', 'reactome:Pathway179', 'reactome:Pathway926', 'reactome:Pathway708', 'reactome:Pathway1823', 'reactome:Pathway1605', 'reactome:Pathway2187', 'reactome:Pathway2272', 'reactome:Pathway2054', 'reactome:Pathway263', 'reactome:Pathway481', 'reactome:Pathway1075', 'reactome:Pathway53', 'reactome:Pathway396', 'reactome:Pathway2717', 'reactome:Pathway1293', 'reactome:Pathway178', 'reactome:Pathway130', 'reactome:Pathway925', 'reactome:Pathway1604', 'reactome:Pathway2055', 'reactome:Pathway2188', 'reactome:Pathway1955', 'reactome:Pathway1737', 'reactome:Pathway2491', 'reactome:Pathway1519', 'reactome:Pathway1822', 'reactome:Pathway2140', 'reactome:Pathway2273', 'reactome:Pathway262', 'reactome:Pathway480', 'reactome:Pathway1074', 'reactome:Pathway2718', 'reactome:Pathway1292', 'reactome:Pathway177', 'reactome:Pathway52', 'reactome:Pathway1469', 'reactome:Pathway936', 'reactome:Pathway718', 'reactome:Pathway2751', 'reactome:Pathway490', 'reactome:Pathway2315', 'reactome:Pathway2666', 'reactome:Pathway2400', 'reactome:Pathway2533', 'reactome:Pathway2448', 'reactome:Pathway188', 'reactome:Pathway1772', 'reactome:Pathway140', 'reactome:Pathway1421', 'reactome:Pathway1203', 'reactome:Pathway1554', 'reactome:Pathway1336', 'reactome:Pathway803', 'reactome:Pathway1990', 'reactome:Pathway717', 'reactome:Pathway1117', 'reactome:Pathway2667', 'reactome:Pathway2534', 'reactome:Pathway2401', 'reactome:Pathway272', 'reactome:Pathway187', 'reactome:Pathway1420', 'reactome:Pathway1771', 'reactome:Pathway1686', 'reactome:Pathway1553', 'reactome:Pathway1335', 'reactome:Pathway1202', 'reactome:Pathway802', 'reactome:Pathway935', 'reactome:Pathway1468', 'reactome:Pathway1689', 'reactome:Pathway1338', 'reactome:Pathway849', 'reactome:Pathway1205', 'reactome:Pathway2535', 'reactome:Pathway270', 'reactome:Pathway271', 'reactome:Pathway2317', 'reactome:Pathway2668', 'reactome:Pathway1774', 'reactome:Pathway801', 'reactome:Pathway1992', 'reactome:Pathway1641', 'reactome:Pathway186', 'reactome:Pathway1423', 'reactome:Pathway934', 'reactome:Pathway1556', 'reactome:Pathway1337', 'reactome:Pathway848', 'reactome:Pathway1119', 'reactome:Pathway2403', 'reactome:Pathway2621', 'reactome:Pathway2090', 'reactome:Pathway2536', 'reactome:Pathway800', 'reactome:Pathway933', 'reactome:Pathway1204', 'reactome:Pathway1991', 'reactome:Pathway1422', 'reactome:Pathway1688', 'reactome:Pathway1555', 'reactome:Pathway185', 'reactome:Pathway1425', 'reactome:Pathway1207', 'reactome:Pathway1558', 'reactome:Pathway629', 'reactome:Pathway2622', 'reactome:Pathway2092', 'reactome:Pathway2404', 'reactome:Pathway2537', 'reactome:Pathway1861', 'reactome:Pathway1994', 'reactome:Pathway184', 'reactome:Pathway1510', 'reactome:Pathway932', 'reactome:Pathway714', 'reactome:Pathway1776', 'reactome:Pathway91', 'reactome:Pathway847', 'reactome:Pathway1557', 'reactome:Pathway182', 'reactome:Pathway1206', 'reactome:Pathway1339', 'reactome:Pathway2623', 'reactome:Pathway2093', 'reactome:Pathway2405', 'reactome:Pathway1993', 'reactome:Pathway931', 'reactome:Pathway90', 'reactome:Pathway713', 'reactome:Pathway183', 'reactome:Pathway1860', 'reactome:Pathway846', 'reactome:Pathway979', 'reactome:Pathway1424', 'reactome:Pathway1775', 'reactome:Pathway1778', 'reactome:Pathway1645', 'reactome:Pathway1427', 'reactome:Pathway409', 'reactome:Pathway181', 'reactome:Pathway1209', 'reactome:Pathway2094', 'reactome:Pathway2406', 'reactome:Pathway2539', 'reactome:Pathway1863', 'reactome:Pathway93', 'reactome:Pathway1996', 'reactome:Pathway1730', 'reactome:Pathway627', 'reactome:Pathway712', 'reactome:Pathway978', 'reactome:Pathway180', 'reactome:Pathway1208', 'reactome:Pathway1426', 'reactome:Pathway408', 'reactome:Pathway2095', 'reactome:Pathway2710', 'reactome:Pathway2407', 'reactome:Pathway2625', 'reactome:Pathway711', 'reactome:Pathway1862', 'reactome:Pathway844', 'reactome:Pathway626', 'reactome:Pathway1511', 'reactome:Pathway1644', 'reactome:Pathway92', 'reactome:Pathway2137', 'reactome:Pathway2004', 'reactome:Pathway2222', 'reactome:Pathway2355', 'reactome:Pathway2440', 'reactome:Pathway2573', 'reactome:Pathway2488', 'reactome:Pathway1906', 'reactome:Pathway1461', 'reactome:Pathway1594', 'reactome:Pathway1243', 'reactome:Pathway1110', 'reactome:Pathway710', 'reactome:Pathway843', 'reactome:Pathway1376', 'reactome:Pathway407', 'reactome:Pathway976', 'reactome:Pathway758', 'reactome:Pathway625', 'reactome:Pathway1905', 'reactome:Pathway2005', 'reactome:Pathway2138', 'reactome:Pathway2223', 'reactome:Pathway2574', 'reactome:Pathway2441', 'reactome:Pathway2356', 'reactome:Pathway2489', 'reactome:Pathway1593', 'reactome:Pathway1024', 'reactome:Pathway842', 'reactome:Pathway975', 'reactome:Pathway1242', 'reactome:Pathway539', 'reactome:Pathway406', 'reactome:Pathway1157', 'reactome:Pathway2224', 'reactome:Pathway2139', 'reactome:Pathway2006', 'reactome:Pathway2660', 'reactome:Pathway1908', 'reactome:Pathway2357', 'reactome:Pathway1112', 'reactome:Pathway841', 'reactome:Pathway1681', 'reactome:Pathway1596', 'reactome:Pathway1463', 'reactome:Pathway974', 'reactome:Pathway756', 'reactome:Pathway1027', 'reactome:Pathway1378', 'reactome:Pathway538', 'reactome:Pathway889', 'reactome:Pathway1245', 'reactome:Pathway405', 'reactome:Pathway2225', 'reactome:Pathway2007', 'reactome:Pathway2310', 'reactome:Pathway2443', 'reactome:Pathway2661', 'reactome:Pathway2358', 'reactome:Pathway1907', 'reactome:Pathway2576', 'reactome:Pathway1680', 'reactome:Pathway1244', 'reactome:Pathway840', 'reactome:Pathway973', 'reactome:Pathway1462', 'reactome:Pathway1111', 'reactome:Pathway755', 'reactome:Pathway1595', 'reactome:Pathway1377', 'reactome:Pathway888', 'reactome:Pathway1159', 'reactome:Pathway319', 'reactome:Pathway537', 'reactome:Pathway1026', 'reactome:Pathway1029', 'reactome:Pathway2311', 'reactome:Pathway2662', 'reactome:Pathway2359', 'reactome:Pathway2577', 'reactome:Pathway972', 'reactome:Pathway1550', 'reactome:Pathway754', 'reactome:Pathway1332', 'reactome:Pathway887', 'reactome:Pathway2008', 'reactome:Pathway318', 'reactome:Pathway1465', 'reactome:Pathway1247', 'reactome:Pathway1114', 'reactome:Pathway536', 'reactome:Pathway2227', 'reactome:Pathway2578', 'reactome:Pathway1909', 'reactome:Pathway2312', 'reactome:Pathway2445', 'reactome:Pathway1682', 'reactome:Pathway402', 'reactome:Pathway535', 'reactome:Pathway753', 'reactome:Pathway886', 'reactome:Pathway1331', 'reactome:Pathway620', 'reactome:Pathway1464', 'reactome:Pathway2009', 'reactome:Pathway1379', 'reactome:Pathway1246', 'reactome:Pathway668', 'reactome:Pathway317', 'reactome:Pathway1113', 'reactome:Pathway1249', 'reactome:Pathway2531', 'reactome:Pathway2579', 'reactome:Pathway2446', 'reactome:Pathway2664', 'reactome:Pathway2313', 'reactome:Pathway970', 'reactome:Pathway534', 'reactome:Pathway885', 'reactome:Pathway1552', 'reactome:Pathway401', 'reactome:Pathway1116', 'reactome:Pathway1685', 'reactome:Pathway2228', 'reactome:Pathway1334', 'reactome:Pathway316', 'reactome:Pathway1467', 'reactome:Pathway1201', 'reactome:Pathway2750', 'reactome:Pathway2314', 'reactome:Pathway2447', 'reactome:Pathway751', 'reactome:Pathway884', 'reactome:Pathway1200', 'reactome:Pathway315', 'reactome:Pathway666', 'reactome:Pathway400', 'reactome:Pathway533', 'reactome:Pathway799', 'reactome:Pathway1248', 'reactome:Pathway2229', 'reactome:Pathway1466', 'reactome:Pathway1115', 'reactome:Pathway1599', 'reactome:Pathway2044', 'reactome:Pathway2177', 'reactome:Pathway1813', 'reactome:Pathway2395', 'reactome:Pathway2480', 'reactome:Pathway1728', 'reactome:Pathway2262', 'reactome:Pathway217', 'reactome:Pathway520', 'reactome:Pathway43', 'reactome:Pathway2707', 'reactome:Pathway871', 'reactome:Pathway1150', 'reactome:Pathway568', 'reactome:Pathway435', 'reactome:Pathway1198', 'reactome:Pathway1065', 'reactome:Pathway653', 'reactome:Pathway302', 'reactome:Pathway1812', 'reactome:Pathway1727', 'reactome:Pathway2045', 'reactome:Pathway1945', 'reactome:Pathway2481', 'reactome:Pathway2178', 'reactome:Pathway1509', 'reactome:Pathway2263', 'reactome:Pathway2396', 'reactome:Pathway652', 'reactome:Pathway2708', 'reactome:Pathway1064', 'reactome:Pathway42', 'reactome:Pathway870', 'reactome:Pathway1282', 'reactome:Pathway216', 'reactome:Pathway785', 'reactome:Pathway567', 'reactome:Pathway301', 'reactome:Pathway434', 'reactome:Pathway1197', 'reactome:Pathway349', 'reactome:Pathway1948', 'reactome:Pathway1815', 'reactome:Pathway2482', 'reactome:Pathway1900', 'reactome:Pathway2264', 'reactome:Pathway2179', 'reactome:Pathway2046', 'reactome:Pathway2397', 'reactome:Pathway300', 'reactome:Pathway1370', 'reactome:Pathway45', 'reactome:Pathway784', 'reactome:Pathway215', 'reactome:Pathway1067', 'reactome:Pathway348', 'reactome:Pathway699', 'reactome:Pathway433', 'reactome:Pathway566', 'reactome:Pathway1814', 'reactome:Pathway1947', 'reactome:Pathway2350', 'reactome:Pathway2265', 'reactome:Pathway2483', 'reactome:Pathway2132', 'reactome:Pathway1729', 'reactome:Pathway2047', 'reactome:Pathway129', 'reactome:Pathway432', 'reactome:Pathway1151', 'reactome:Pathway650', 'reactome:Pathway783', 'reactome:Pathway44', 'reactome:Pathway347', 'reactome:Pathway1199', 'reactome:Pathway698', 'reactome:Pathway1066', 'reactome:Pathway2048', 'reactome:Pathway1817', 'reactome:Pathway1902', 'reactome:Pathway2133', 'reactome:Pathway2000', 'reactome:Pathway2351', 'reactome:Pathway2266', 'reactome:Pathway2399', 'reactome:Pathway2484', 'reactome:Pathway47', 'reactome:Pathway564', 'reactome:Pathway1590', 'reactome:Pathway213', 'reactome:Pathway782', 'reactome:Pathway128', 'reactome:Pathway1372', 'reactome:Pathway479', 'reactome:Pathway1287', 'reactome:Pathway1154', 'reactome:Pathway1021', 'reactome:Pathway697', 'reactome:Pathway346', 'reactome:Pathway1816', 'reactome:Pathway2049', 'reactome:Pathway2001', 'reactome:Pathway2570', 'reactome:Pathway2267', 'reactome:Pathway2134', 'reactome:Pathway2352', 'reactome:Pathway2485', 'reactome:Pathway46', 'reactome:Pathway696', 'reactome:Pathway781', 'reactome:Pathway563', 'reactome:Pathway1371', 'reactome:Pathway127', 'reactome:Pathway430', 'reactome:Pathway1068', 'reactome:Pathway1286', 'reactome:Pathway212', 'reactome:Pathway345', 'reactome:Pathway1153', 'reactome:Pathway478', 'reactome:Pathway1904', 'reactome:Pathway2268', 'reactome:Pathway2220', 'reactome:Pathway2135', 'reactome:Pathway2002', 'reactome:Pathway2486', 'reactome:Pathway2353', 'reactome:Pathway1819', 'reactome:Pathway780', 'reactome:Pathway126', 'reactome:Pathway344', 'reactome:Pathway695', 'reactome:Pathway1592', 'reactome:Pathway562', 'reactome:Pathway1023', 'reactome:Pathway259', 'reactome:Pathway477', 'reactome:Pathway1241', 'reactome:Pathway211', 'reactome:Pathway1289', 'reactome:Pathway2269', 'reactome:Pathway2136', 'reactome:Pathway1903', 'reactome:Pathway2221', 'reactome:Pathway2354', 'reactome:Pathway2487', 'reactome:Pathway2572', 'reactome:Pathway1818', 'reactome:Pathway1240', 'reactome:Pathway343', 'reactome:Pathway476', 'reactome:Pathway125', 'reactome:Pathway694', 'reactome:Pathway1591', 'reactome:Pathway561', 'reactome:Pathway1288', 'reactome:Pathway210', 'reactome:Pathway1373', 'reactome:Pathway1155', 'reactome:Pathway1502', 'reactome:Pathway1768', 'reactome:Pathway1417', 'reactome:Pathway1986', 'reactome:Pathway2084', 'reactome:Pathway560', 'reactome:Pathway1190', 'reactome:Pathway2614', 'reactome:Pathway475', 'reactome:Pathway2529', 'reactome:Pathway693', 'reactome:Pathway342', 'reactome:Pathway83', 'reactome:Pathway1853', 'reactome:Pathway257', 'reactome:Pathway124', 'reactome:Pathway1720', 'reactome:Pathway1416', 'reactome:Pathway1549', 'reactome:Pathway919', 'reactome:Pathway2085', 'reactome:Pathway2700', 'reactome:Pathway2170', 'reactome:Pathway2748', 'reactome:Pathway692', 'reactome:Pathway2615', 'reactome:Pathway256', 'reactome:Pathway341', 'reactome:Pathway474', 'reactome:Pathway1852', 'reactome:Pathway82', 'reactome:Pathway1985', 'reactome:Pathway389', 'reactome:Pathway123', 'reactome:Pathway1501', 'reactome:Pathway1504', 'reactome:Pathway1637', 'reactome:Pathway1988', 'reactome:Pathway1419', 'reactome:Pathway918', 'reactome:Pathway1855', 'reactome:Pathway2086', 'reactome:Pathway2171', 'reactome:Pathway2616', 'reactome:Pathway1192', 'reactome:Pathway340', 'reactome:Pathway255', 'reactome:Pathway388', 'reactome:Pathway473', 'reactome:Pathway2749', 'reactome:Pathway122', 'reactome:Pathway85', 'reactome:Pathway1503', 'reactome:Pathway917', 'reactome:Pathway1854', 'reactome:Pathway1987', 'reactome:Pathway2172', 'reactome:Pathway2087', 'reactome:Pathway472', 'reactome:Pathway690', 'reactome:Pathway2702', 'reactome:Pathway387', 'reactome:Pathway2617', 'reactome:Pathway254', 'reactome:Pathway121', 'reactome:Pathway1721', 'reactome:Pathway2391', 'reactome:Pathway1639', 'reactome:Pathway2088', 'reactome:Pathway1506', 'reactome:Pathway1857', 'reactome:Pathway1942', 'reactome:Pathway2040', 'reactome:Pathway2173', 'reactome:Pathway471', 'reactome:Pathway87', 'reactome:Pathway1061', 'reactome:Pathway2618', 'reactome:Pathway253', 'reactome:Pathway386', 'reactome:Pathway168', 'reactome:Pathway120', 'reactome:Pathway915', 'reactome:Pathway1505', 'reactome:Pathway1856', 'reactome:Pathway1989', 'reactome:Pathway2089', 'reactome:Pathway2041', 'reactome:Pathway2174', 'reactome:Pathway2704', 'reactome:Pathway252', 'reactome:Pathway1060', 'reactome:Pathway470', 'reactome:Pathway86', 'reactome:Pathway385', 'reactome:Pathway1193', 'reactome:Pathway167', 'reactome:Pathway1859', 'reactome:Pathway829', 'reactome:Pathway1944', 'reactome:Pathway1726', 'reactome:Pathway1508', 'reactome:Pathway1811', 'reactome:Pathway2393', 'reactome:Pathway2260', 'reactome:Pathway2175', 'reactome:Pathway2042', 'reactome:Pathway251', 'reactome:Pathway384', 'reactome:Pathway1196', 'reactome:Pathway299', 'reactome:Pathway1063', 'reactome:Pathway2705', 'reactome:Pathway1281', 'reactome:Pathway41', 'reactome:Pathway1725', 'reactome:Pathway1858', 'reactome:Pathway828', 'reactome:Pathway2394', 'reactome:Pathway1507', 'reactome:Pathway2176', 'reactome:Pathway1943', 'reactome:Pathway2261', 'reactome:Pathway2043', 'reactome:Pathway383', 'reactome:Pathway1280', 'reactome:Pathway250', 'reactome:Pathway2706', 'reactome:Pathway298', 'reactome:Pathway88', 'reactome:Pathway1062', 'reactome:Pathway165', 'reactome:Pathway40', 'reactome:Pathway913', 'reactome:Pathway706', 'reactome:Pathway1239', 'reactome:Pathway839', 'reactome:Pathway1106', 'reactome:Pathway2303', 'reactome:Pathway2436', 'reactome:Pathway2654', 'reactome:Pathway2521', 'reactome:Pathway394', 'reactome:Pathway2569', 'reactome:Pathway261', 'reactome:Pathway176', 'reactome:Pathway2218', 'reactome:Pathway1542', 'reactome:Pathway1893', 'reactome:Pathway1324', 'reactome:Pathway838', 'reactome:Pathway1238', 'reactome:Pathway2740', 'reactome:Pathway2304', 'reactome:Pathway2522', 'reactome:Pathway260', 'reactome:Pathway393', 'reactome:Pathway1541', 'reactome:Pathway1105', 'reactome:Pathway1892', 'reactome:Pathway1323', 'reactome:Pathway1674', 'reactome:Pathway175', 'reactome:Pathway1589', 'reactome:Pathway1456', 'reactome:Pathway2219', 'reactome:Pathway923', 'reactome:Pathway837', 'reactome:Pathway1326', 'reactome:Pathway1108', 'reactome:Pathway619', 'reactome:Pathway2656', 'reactome:Pathway2523', 'reactome:Pathway391', 'reactome:Pathway392', 'reactome:Pathway2305', 'reactome:Pathway2438', 'reactome:Pathway1895', 'reactome:Pathway1980', 'reactome:Pathway922', 'reactome:Pathway1411', 'reactome:Pathway1762', 'reactome:Pathway1544', 'reactome:Pathway704', 'reactome:Pathway174', 'reactome:Pathway618', 'reactome:Pathway1107', 'reactome:Pathway2524', 'reactome:Pathway2742', 'reactome:Pathway2439', 'reactome:Pathway2657', 'reactome:Pathway2306', 'reactome:Pathway1761', 'reactome:Pathway1894', 'reactome:Pathway173', 'reactome:Pathway1410', 'reactome:Pathway1543', 'reactome:Pathway921', 'reactome:Pathway703', 'reactome:Pathway836', 'reactome:Pathway1325', 'reactome:Pathway1679', 'reactome:Pathway1546', 'reactome:Pathway1328', 'reactome:Pathway171', 'reactome:Pathway617', 'reactome:Pathway2080', 'reactome:Pathway2743', 'reactome:Pathway2610', 'reactome:Pathway2307', 'reactome:Pathway2658', 'reactome:Pathway2525', 'reactome:Pathway1897', 'reactome:Pathway1982', 'reactome:Pathway1631', 'reactome:Pathway172', 'reactome:Pathway702', 'reactome:Pathway835', 'reactome:Pathway968', 'reactome:Pathway1413', 'reactome:Pathway1764', 'reactome:Pathway749', 'reactome:Pathway1109', 'reactome:Pathway1327', 'reactome:Pathway170', 'reactome:Pathway2744', 'reactome:Pathway2611', 'reactome:Pathway2081', 'reactome:Pathway2308', 'reactome:Pathway2659', 'reactome:Pathway2526', 'reactome:Pathway1896', 'reactome:Pathway701', 'reactome:Pathway1763', 'reactome:Pathway616', 'reactome:Pathway1630', 'reactome:Pathway1981', 'reactome:Pathway1412', 'reactome:Pathway1545', 'reactome:Pathway1415', 'reactome:Pathway1548', 'reactome:Pathway1899', 'reactome:Pathway2612', 'reactome:Pathway2082', 'reactome:Pathway2527', 'reactome:Pathway2745', 'reactome:Pathway2309', 'reactome:Pathway1984', 'reactome:Pathway700', 'reactome:Pathway966', 'reactome:Pathway833', 'reactome:Pathway748', 'reactome:Pathway1414', 'reactome:Pathway529', 'reactome:Pathway1329', 'reactome:Pathway1898', 'reactome:Pathway2083', 'reactome:Pathway2528', 'reactome:Pathway2613', 'reactome:Pathway1850', 'reactome:Pathway832', 'reactome:Pathway614', 'reactome:Pathway1765', 'reactome:Pathway1632', 'reactome:Pathway2258', 'reactome:Pathway2125', 'reactome:Pathway2210', 'reactome:Pathway2343', 'reactome:Pathway2476', 'reactome:Pathway2694', 'reactome:Pathway1809', 'reactome:Pathway39', 'reactome:Pathway1582', 'reactome:Pathway1364', 'reactome:Pathway964', 'reactome:Pathway1231', 'reactome:Pathway831', 'reactome:Pathway1497', 'reactome:Pathway528', 'reactome:Pathway746', 'reactome:Pathway879', 'reactome:Pathway1279', 'reactome:Pathway1146', 'reactome:Pathway613', 'reactome:Pathway2126', 'reactome:Pathway309', 'reactome:Pathway2211', 'reactome:Pathway2344', 'reactome:Pathway2695', 'reactome:Pathway2562', 'reactome:Pathway2477', 'reactome:Pathway1808', 'reactome:Pathway1012', 'reactome:Pathway612', 'reactome:Pathway1145', 'reactome:Pathway1363', 'reactome:Pathway830', 'reactome:Pathway1230', 'reactome:Pathway745', 'reactome:Pathway878', 'reactome:Pathway527', 'reactome:Pathway1278', 'reactome:Pathway2127', 'reactome:Pathway2212', 'reactome:Pathway2696', 'reactome:Pathway2345', 'reactome:Pathway2478', 'reactome:Pathway1233', 'reactome:Pathway611', 'reactome:Pathway1100', 'reactome:Pathway1451', 'reactome:Pathway1584', 'reactome:Pathway659', 'reactome:Pathway1499', 'reactome:Pathway308', 'reactome:Pathway526', 'reactome:Pathway2213', 'reactome:Pathway2128', 'reactome:Pathway2564', 'reactome:Pathway2479', 'reactome:Pathway2697', 'reactome:Pathway2346', 'reactome:Pathway1583', 'reactome:Pathway1450', 'reactome:Pathway1232', 'reactome:Pathway610', 'reactome:Pathway743', 'reactome:Pathway1365', 'reactome:Pathway876', 'reactome:Pathway1498', 'reactome:Pathway307', 'reactome:Pathway1147', 'reactome:Pathway658', 'reactome:Pathway1014', 'reactome:Pathway525', 'reactome:Pathway2214', 'reactome:Pathway2650', 'reactome:Pathway2347', 'reactome:Pathway2698', 'reactome:Pathway2565', 'reactome:Pathway524', 'reactome:Pathway1671', 'reactome:Pathway742', 'reactome:Pathway1320', 'reactome:Pathway875', 'reactome:Pathway1453', 'reactome:Pathway2129', 'reactome:Pathway1586', 'reactome:Pathway1368', 'reactome:Pathway1235', 'reactome:Pathway1102', 'reactome:Pathway306', 'reactome:Pathway2215', 'reactome:Pathway2300', 'reactome:Pathway2651', 'reactome:Pathway2699', 'reactome:Pathway2348', 'reactome:Pathway2433', 'reactome:Pathway2566', 'reactome:Pathway656', 'reactome:Pathway741', 'reactome:Pathway1101', 'reactome:Pathway1670', 'reactome:Pathway874', 'reactome:Pathway523', 'reactome:Pathway1452', 'reactome:Pathway1585', 'reactome:Pathway1149', 'reactome:Pathway789', 'reactome:Pathway1016', 'reactome:Pathway1367', 'reactome:Pathway1234', 'reactome:Pathway438', 'reactome:Pathway2301', 'reactome:Pathway2434', 'reactome:Pathway2349', 'reactome:Pathway219', 'reactome:Pathway740', 'reactome:Pathway873', 'reactome:Pathway655', 'reactome:Pathway522', 'reactome:Pathway1673', 'reactome:Pathway1540', 'reactome:Pathway1237', 'reactome:Pathway1322', 'reactome:Pathway1104', 'reactome:Pathway1455', 'reactome:Pathway437', 'reactome:Pathway1588', 'reactome:Pathway1891', 'reactome:Pathway1018', 'reactome:Pathway2520', 'reactome:Pathway2435', 'reactome:Pathway2653', 'reactome:Pathway218', 'reactome:Pathway872', 'reactome:Pathway303', 'reactome:Pathway654', 'reactome:Pathway521', 'reactome:Pathway1321', 'reactome:Pathway1672', 'reactome:Pathway1587', 'reactome:Pathway1454', 'reactome:Pathway1236', 'reactome:Pathway2217', 'reactome:Pathway1890', 'reactome:Pathway1369', 'reactome:Pathway569']\n",
      "                         0                           1\n",
      "0                  pathway  NbDirectPathwayStepProcess\n",
      "1     reactome:Pathway1849                           7\n",
      "2     reactome:Pathway1716                          13\n",
      "3     reactome:Pathway1801                           6\n",
      "4     reactome:Pathway2298                           6\n",
      "...                    ...                         ...\n",
      "2250  reactome:Pathway1236                           2\n",
      "2251  reactome:Pathway2217                          16\n",
      "2252  reactome:Pathway1890                           4\n",
      "2253  reactome:Pathway1369                           1\n",
      "2254   reactome:Pathway569                           8\n",
      "\n",
      "[2255 rows x 2 columns]\n",
      "                         0                            1                     2\n",
      "0      reactome:Pathway170   abstraction:SuperPathwayOf   reactome:Pathway178\n",
      "1      reactome:Pathway439   abstraction:SuperPathwayOf   reactome:Pathway442\n",
      "2     reactome:Pathway2530   abstraction:SuperPathwayOf  reactome:Pathway2532\n",
      "3      reactome:Pathway661   abstraction:SuperPathwayOf   reactome:Pathway653\n",
      "4      reactome:Pathway505   abstraction:SuperPathwayOf   reactome:Pathway506\n",
      "...                    ...                          ...                   ...\n",
      "6461  reactome:Pathway2621  abstraction:NextStepPathway  reactome:Pathway1924\n",
      "6462   reactome:Pathway153  abstraction:NextStepPathway   reactome:Pathway154\n",
      "6463   reactome:Pathway259  abstraction:NextStepPathway   reactome:Pathway543\n",
      "6464   reactome:Pathway635  abstraction:NextStepPathway  reactome:Pathway2063\n",
      "6465  reactome:Pathway1590  abstraction:NextStepPathway  reactome:Pathway1577\n",
      "\n",
      "[6466 rows x 3 columns]\n"
     ]
    }
   ],
   "source": [
    "nodeTable = pd.read_csv(\"../Results/ReactomeHomoSapiens/PathwayNodeTable.csv\", header=None, sep=\",\")\n",
    "pathwayURIs:list = nodeTable[0]\n",
    "prefixMapping = extract_prefix_mappings(prefixes)\n",
    "newPathwayNodes = list()\n",
    "for node in pathwayURIs:\n",
    "    newPathwayNodes.append(convert_to_prefixed_uri(node, prefixMapping))\n",
    "print(newPathwayNodes)\n",
    "nodeTable[0] = newPathwayNodes\n",
    "print(nodeTable)\n",
    "nodeTable.to_csv(\"../Results/ReactomeHomoSapiens/PathwayNodeTablev.tsv\", sep=\"\\t\", header=None, index=False)\n",
    "\n",
    "# concatenate output files\n",
    "q1 = pd.read_csv(\"../Results/ReactomeHomoSapiens/SuperPathwayOf.csv\", header=None, sep=\",\")\n",
    "q1 = q1.drop(q1.index[0]).reset_index(drop=True)\n",
    "q2 = pd.read_csv(\"../Results/ReactomeHomoSapiens/NextStepPathway.csv\", header=None, sep=\",\")\n",
    "q2 = q2.drop(q2.index[0]).reset_index(drop=True)\n",
    "\n",
    "concat_df = pd.concat([q1, q2], ignore_index=True)\n",
    "\n",
    "concat_df.to_csv(\"../Results/ReactomeHomoSapiens/PathwayAbstraction.tsv\", sep=\"\\t\", header=None, index=False)\n",
    "print(concat_df)\n"
   ]
  },
  {
   "cell_type": "code",
   "execution_count": 14,
   "metadata": {},
   "outputs": [],
   "source": [
    "# end process\n",
    "process.kill()\n",
    "time.sleep(60)"
   ]
  }
 ],
 "metadata": {
  "kernelspec": {
   "display_name": "biopax_sparql_queries",
   "language": "python",
   "name": "python3"
  },
  "language_info": {
   "codemirror_mode": {
    "name": "ipython",
    "version": 3
   },
   "file_extension": ".py",
   "mimetype": "text/x-python",
   "name": "python",
   "nbconvert_exporter": "python",
   "pygments_lexer": "ipython3",
   "version": "3.12.4"
  }
 },
 "nbformat": 4,
 "nbformat_minor": 2
}
